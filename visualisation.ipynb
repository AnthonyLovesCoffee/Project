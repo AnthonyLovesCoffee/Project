{
 "cells": [
  {
   "cell_type": "markdown",
   "metadata": {},
   "source": [
    "__COMP47970 Project__ • Anthony Salib 20341603\n",
    "\n",
    "---\n",
    "\n",
    "# Data Visualisation of the 'TikTok-ification' of Music\n",
    "\n",
    "The goal of this assignment is to use a dataset obtained from the [Spotify API](https://developer.spotify.com/documentation/web-api/), and to investigate the factors that contribute to the 'TikTokification' of music.\n",
    "\n",
    "This notebook covers the **Task of Visualising** the data we obtained. \n",
    "\n",
    "---"
   ]
  },
  {
   "cell_type": "code",
   "execution_count": 27,
   "metadata": {},
   "outputs": [],
   "source": [
    "from pathlib import Path\n",
    "import pandas as pd\n",
    "import numpy as np\n",
    "import plotly.express as px\n",
    "import plotly.graph_objects as go\n",
    "from plotly.subplots import make_subplots\n",
    "import nbformat\n",
    "pd.options.mode.chained_assignment = None  "
   ]
  },
  {
   "cell_type": "code",
   "execution_count": 28,
   "metadata": {},
   "outputs": [
    {
     "name": "stdout",
     "output_type": "stream",
     "text": [
      "Dataset shape: (9611, 25)\n"
     ]
    },
    {
     "data": {
      "application/vnd.microsoft.datawrangler.viewer.v0+json": {
       "columns": [
        {
         "name": "index",
         "rawType": "int64",
         "type": "integer"
        },
        {
         "name": "Track ID",
         "rawType": "object",
         "type": "string"
        },
        {
         "name": "Track name",
         "rawType": "object",
         "type": "string"
        },
        {
         "name": "Artist name",
         "rawType": "object",
         "type": "string"
        },
        {
         "name": "Popularity",
         "rawType": "int64",
         "type": "integer"
        },
        {
         "name": "Release year",
         "rawType": "int64",
         "type": "integer"
        },
        {
         "name": "Category",
         "rawType": "object",
         "type": "string"
        },
        {
         "name": "danceability",
         "rawType": "float64",
         "type": "float"
        },
        {
         "name": "energy",
         "rawType": "float64",
         "type": "float"
        },
        {
         "name": "key",
         "rawType": "int64",
         "type": "integer"
        },
        {
         "name": "loudness",
         "rawType": "float64",
         "type": "float"
        },
        {
         "name": "mode",
         "rawType": "int64",
         "type": "integer"
        },
        {
         "name": "speechiness",
         "rawType": "float64",
         "type": "float"
        },
        {
         "name": "acousticness",
         "rawType": "float64",
         "type": "float"
        },
        {
         "name": "instrumentalness",
         "rawType": "float64",
         "type": "float"
        },
        {
         "name": "liveness",
         "rawType": "float64",
         "type": "float"
        },
        {
         "name": "valence",
         "rawType": "float64",
         "type": "float"
        },
        {
         "name": "tempo",
         "rawType": "float64",
         "type": "float"
        },
        {
         "name": "type",
         "rawType": "object",
         "type": "string"
        },
        {
         "name": "id",
         "rawType": "object",
         "type": "string"
        },
        {
         "name": "uri",
         "rawType": "object",
         "type": "string"
        },
        {
         "name": "track_href",
         "rawType": "object",
         "type": "string"
        },
        {
         "name": "analysis_url",
         "rawType": "object",
         "type": "string"
        },
        {
         "name": "duration_ms",
         "rawType": "int64",
         "type": "integer"
        },
        {
         "name": "time_signature",
         "rawType": "int64",
         "type": "integer"
        },
        {
         "name": "duration",
         "rawType": "float64",
         "type": "float"
        }
       ],
       "conversionMethod": "pd.DataFrame",
       "ref": "93019916-34fe-48dc-80b2-b7b669c3f4e1",
       "rows": [
        [
         "0",
         "6DshyLFOY859M1ERk0h54h",
         "New Release",
         "Killing Time",
         "22",
         "1989",
         "New Releases",
         "0.322",
         "0.714",
         "4",
         "-13.477",
         "0",
         "0.0545",
         "0.00157",
         "0.0",
         "0.0984",
         "0.378",
         "125.286",
         "audio_features",
         "6DshyLFOY859M1ERk0h54h",
         "spotify:track:6DshyLFOY859M1ERk0h54h",
         "https://api.spotify.com/v1/tracks/6DshyLFOY859M1ERk0h54h",
         "https://api.spotify.com/v1/audio-analysis/6DshyLFOY859M1ERk0h54h",
         "101960",
         "4",
         "1.7"
        ],
        [
         "1",
         "4DZghpw50ZnO3ckfDuNkft",
         "New Religion",
         "The Heydaze",
         "53",
         "2017",
         "New Releases",
         "0.537",
         "0.863",
         "7",
         "-4.46",
         "1",
         "0.0446",
         "0.00201",
         "0.0",
         "0.201",
         "0.484",
         "97.02",
         "audio_features",
         "4DZghpw50ZnO3ckfDuNkft",
         "spotify:track:4DZghpw50ZnO3ckfDuNkft",
         "https://api.spotify.com/v1/tracks/4DZghpw50ZnO3ckfDuNkft",
         "https://api.spotify.com/v1/audio-analysis/4DZghpw50ZnO3ckfDuNkft",
         "203587",
         "4",
         "3.39"
        ],
        [
         "2",
         "0KbTsCQkdNGnkrea1vA4eG",
         "Morning Has Broken (New Release) (with Diana Krall)",
         "Art Garfunkel",
         "43",
         "2002",
         "New Releases",
         "0.253",
         "0.206",
         "2",
         "-14.276",
         "1",
         "0.0337",
         "0.608",
         "0.00382",
         "0.119",
         "0.228",
         "105.48",
         "audio_features",
         "0KbTsCQkdNGnkrea1vA4eG",
         "spotify:track:0KbTsCQkdNGnkrea1vA4eG",
         "https://api.spotify.com/v1/tracks/0KbTsCQkdNGnkrea1vA4eG",
         "https://api.spotify.com/v1/audio-analysis/0KbTsCQkdNGnkrea1vA4eG",
         "175227",
         "3",
         "2.92"
        ],
        [
         "3",
         "0lmRKkc33g1N9fWW9nZPVc",
         "New Recording 12, Jan 3, 2020",
         "Post Malone",
         "46",
         "2022",
         "New Releases",
         "0.477",
         "0.162",
         "9",
         "-15.34",
         "1",
         "0.0545",
         "0.927",
         "0.000299",
         "0.179",
         "0.211",
         "106.144",
         "audio_features",
         "0lmRKkc33g1N9fWW9nZPVc",
         "spotify:track:0lmRKkc33g1N9fWW9nZPVc",
         "https://api.spotify.com/v1/tracks/0lmRKkc33g1N9fWW9nZPVc",
         "https://api.spotify.com/v1/audio-analysis/0lmRKkc33g1N9fWW9nZPVc",
         "92718",
         "3",
         "1.55"
        ],
        [
         "4",
         "3eluHrktBbrs9qCnfRcJkm",
         "Relieve Him of His Wand / Newt Releases the Thunderbird / Jacob's Farewell",
         "James Newton Howard",
         "31",
         "2016",
         "New Releases",
         "0.117",
         "0.0799",
         "5",
         "-18.385",
         "1",
         "0.0378",
         "0.914",
         "0.902",
         "0.0988",
         "0.0341",
         "85.353",
         "audio_features",
         "3eluHrktBbrs9qCnfRcJkm",
         "spotify:track:3eluHrktBbrs9qCnfRcJkm",
         "https://api.spotify.com/v1/tracks/3eluHrktBbrs9qCnfRcJkm",
         "https://api.spotify.com/v1/audio-analysis/3eluHrktBbrs9qCnfRcJkm",
         "753202",
         "4",
         "12.55"
        ]
       ],
       "shape": {
        "columns": 25,
        "rows": 5
       }
      },
      "text/html": [
       "<div>\n",
       "<style scoped>\n",
       "    .dataframe tbody tr th:only-of-type {\n",
       "        vertical-align: middle;\n",
       "    }\n",
       "\n",
       "    .dataframe tbody tr th {\n",
       "        vertical-align: top;\n",
       "    }\n",
       "\n",
       "    .dataframe thead th {\n",
       "        text-align: right;\n",
       "    }\n",
       "</style>\n",
       "<table border=\"1\" class=\"dataframe\">\n",
       "  <thead>\n",
       "    <tr style=\"text-align: right;\">\n",
       "      <th></th>\n",
       "      <th>Track ID</th>\n",
       "      <th>Track name</th>\n",
       "      <th>Artist name</th>\n",
       "      <th>Popularity</th>\n",
       "      <th>Release year</th>\n",
       "      <th>Category</th>\n",
       "      <th>danceability</th>\n",
       "      <th>energy</th>\n",
       "      <th>key</th>\n",
       "      <th>loudness</th>\n",
       "      <th>...</th>\n",
       "      <th>valence</th>\n",
       "      <th>tempo</th>\n",
       "      <th>type</th>\n",
       "      <th>id</th>\n",
       "      <th>uri</th>\n",
       "      <th>track_href</th>\n",
       "      <th>analysis_url</th>\n",
       "      <th>duration_ms</th>\n",
       "      <th>time_signature</th>\n",
       "      <th>duration</th>\n",
       "    </tr>\n",
       "  </thead>\n",
       "  <tbody>\n",
       "    <tr>\n",
       "      <th>0</th>\n",
       "      <td>6DshyLFOY859M1ERk0h54h</td>\n",
       "      <td>New Release</td>\n",
       "      <td>Killing Time</td>\n",
       "      <td>22</td>\n",
       "      <td>1989</td>\n",
       "      <td>New Releases</td>\n",
       "      <td>0.322</td>\n",
       "      <td>0.7140</td>\n",
       "      <td>4</td>\n",
       "      <td>-13.477</td>\n",
       "      <td>...</td>\n",
       "      <td>0.3780</td>\n",
       "      <td>125.286</td>\n",
       "      <td>audio_features</td>\n",
       "      <td>6DshyLFOY859M1ERk0h54h</td>\n",
       "      <td>spotify:track:6DshyLFOY859M1ERk0h54h</td>\n",
       "      <td>https://api.spotify.com/v1/tracks/6DshyLFOY859...</td>\n",
       "      <td>https://api.spotify.com/v1/audio-analysis/6Dsh...</td>\n",
       "      <td>101960</td>\n",
       "      <td>4</td>\n",
       "      <td>1.70</td>\n",
       "    </tr>\n",
       "    <tr>\n",
       "      <th>1</th>\n",
       "      <td>4DZghpw50ZnO3ckfDuNkft</td>\n",
       "      <td>New Religion</td>\n",
       "      <td>The Heydaze</td>\n",
       "      <td>53</td>\n",
       "      <td>2017</td>\n",
       "      <td>New Releases</td>\n",
       "      <td>0.537</td>\n",
       "      <td>0.8630</td>\n",
       "      <td>7</td>\n",
       "      <td>-4.460</td>\n",
       "      <td>...</td>\n",
       "      <td>0.4840</td>\n",
       "      <td>97.020</td>\n",
       "      <td>audio_features</td>\n",
       "      <td>4DZghpw50ZnO3ckfDuNkft</td>\n",
       "      <td>spotify:track:4DZghpw50ZnO3ckfDuNkft</td>\n",
       "      <td>https://api.spotify.com/v1/tracks/4DZghpw50ZnO...</td>\n",
       "      <td>https://api.spotify.com/v1/audio-analysis/4DZg...</td>\n",
       "      <td>203587</td>\n",
       "      <td>4</td>\n",
       "      <td>3.39</td>\n",
       "    </tr>\n",
       "    <tr>\n",
       "      <th>2</th>\n",
       "      <td>0KbTsCQkdNGnkrea1vA4eG</td>\n",
       "      <td>Morning Has Broken (New Release) (with Diana K...</td>\n",
       "      <td>Art Garfunkel</td>\n",
       "      <td>43</td>\n",
       "      <td>2002</td>\n",
       "      <td>New Releases</td>\n",
       "      <td>0.253</td>\n",
       "      <td>0.2060</td>\n",
       "      <td>2</td>\n",
       "      <td>-14.276</td>\n",
       "      <td>...</td>\n",
       "      <td>0.2280</td>\n",
       "      <td>105.480</td>\n",
       "      <td>audio_features</td>\n",
       "      <td>0KbTsCQkdNGnkrea1vA4eG</td>\n",
       "      <td>spotify:track:0KbTsCQkdNGnkrea1vA4eG</td>\n",
       "      <td>https://api.spotify.com/v1/tracks/0KbTsCQkdNGn...</td>\n",
       "      <td>https://api.spotify.com/v1/audio-analysis/0KbT...</td>\n",
       "      <td>175227</td>\n",
       "      <td>3</td>\n",
       "      <td>2.92</td>\n",
       "    </tr>\n",
       "    <tr>\n",
       "      <th>3</th>\n",
       "      <td>0lmRKkc33g1N9fWW9nZPVc</td>\n",
       "      <td>New Recording 12, Jan 3, 2020</td>\n",
       "      <td>Post Malone</td>\n",
       "      <td>46</td>\n",
       "      <td>2022</td>\n",
       "      <td>New Releases</td>\n",
       "      <td>0.477</td>\n",
       "      <td>0.1620</td>\n",
       "      <td>9</td>\n",
       "      <td>-15.340</td>\n",
       "      <td>...</td>\n",
       "      <td>0.2110</td>\n",
       "      <td>106.144</td>\n",
       "      <td>audio_features</td>\n",
       "      <td>0lmRKkc33g1N9fWW9nZPVc</td>\n",
       "      <td>spotify:track:0lmRKkc33g1N9fWW9nZPVc</td>\n",
       "      <td>https://api.spotify.com/v1/tracks/0lmRKkc33g1N...</td>\n",
       "      <td>https://api.spotify.com/v1/audio-analysis/0lmR...</td>\n",
       "      <td>92718</td>\n",
       "      <td>3</td>\n",
       "      <td>1.55</td>\n",
       "    </tr>\n",
       "    <tr>\n",
       "      <th>4</th>\n",
       "      <td>3eluHrktBbrs9qCnfRcJkm</td>\n",
       "      <td>Relieve Him of His Wand / Newt Releases the Th...</td>\n",
       "      <td>James Newton Howard</td>\n",
       "      <td>31</td>\n",
       "      <td>2016</td>\n",
       "      <td>New Releases</td>\n",
       "      <td>0.117</td>\n",
       "      <td>0.0799</td>\n",
       "      <td>5</td>\n",
       "      <td>-18.385</td>\n",
       "      <td>...</td>\n",
       "      <td>0.0341</td>\n",
       "      <td>85.353</td>\n",
       "      <td>audio_features</td>\n",
       "      <td>3eluHrktBbrs9qCnfRcJkm</td>\n",
       "      <td>spotify:track:3eluHrktBbrs9qCnfRcJkm</td>\n",
       "      <td>https://api.spotify.com/v1/tracks/3eluHrktBbrs...</td>\n",
       "      <td>https://api.spotify.com/v1/audio-analysis/3elu...</td>\n",
       "      <td>753202</td>\n",
       "      <td>4</td>\n",
       "      <td>12.55</td>\n",
       "    </tr>\n",
       "  </tbody>\n",
       "</table>\n",
       "<p>5 rows × 25 columns</p>\n",
       "</div>"
      ],
      "text/plain": [
       "                 Track ID                                         Track name  \\\n",
       "0  6DshyLFOY859M1ERk0h54h                                        New Release   \n",
       "1  4DZghpw50ZnO3ckfDuNkft                                       New Religion   \n",
       "2  0KbTsCQkdNGnkrea1vA4eG  Morning Has Broken (New Release) (with Diana K...   \n",
       "3  0lmRKkc33g1N9fWW9nZPVc                      New Recording 12, Jan 3, 2020   \n",
       "4  3eluHrktBbrs9qCnfRcJkm  Relieve Him of His Wand / Newt Releases the Th...   \n",
       "\n",
       "           Artist name  Popularity  Release year      Category  danceability  \\\n",
       "0         Killing Time          22          1989  New Releases         0.322   \n",
       "1          The Heydaze          53          2017  New Releases         0.537   \n",
       "2        Art Garfunkel          43          2002  New Releases         0.253   \n",
       "3          Post Malone          46          2022  New Releases         0.477   \n",
       "4  James Newton Howard          31          2016  New Releases         0.117   \n",
       "\n",
       "   energy  key  loudness  ...  valence    tempo            type  \\\n",
       "0  0.7140    4   -13.477  ...   0.3780  125.286  audio_features   \n",
       "1  0.8630    7    -4.460  ...   0.4840   97.020  audio_features   \n",
       "2  0.2060    2   -14.276  ...   0.2280  105.480  audio_features   \n",
       "3  0.1620    9   -15.340  ...   0.2110  106.144  audio_features   \n",
       "4  0.0799    5   -18.385  ...   0.0341   85.353  audio_features   \n",
       "\n",
       "                       id                                   uri  \\\n",
       "0  6DshyLFOY859M1ERk0h54h  spotify:track:6DshyLFOY859M1ERk0h54h   \n",
       "1  4DZghpw50ZnO3ckfDuNkft  spotify:track:4DZghpw50ZnO3ckfDuNkft   \n",
       "2  0KbTsCQkdNGnkrea1vA4eG  spotify:track:0KbTsCQkdNGnkrea1vA4eG   \n",
       "3  0lmRKkc33g1N9fWW9nZPVc  spotify:track:0lmRKkc33g1N9fWW9nZPVc   \n",
       "4  3eluHrktBbrs9qCnfRcJkm  spotify:track:3eluHrktBbrs9qCnfRcJkm   \n",
       "\n",
       "                                          track_href  \\\n",
       "0  https://api.spotify.com/v1/tracks/6DshyLFOY859...   \n",
       "1  https://api.spotify.com/v1/tracks/4DZghpw50ZnO...   \n",
       "2  https://api.spotify.com/v1/tracks/0KbTsCQkdNGn...   \n",
       "3  https://api.spotify.com/v1/tracks/0lmRKkc33g1N...   \n",
       "4  https://api.spotify.com/v1/tracks/3eluHrktBbrs...   \n",
       "\n",
       "                                        analysis_url duration_ms  \\\n",
       "0  https://api.spotify.com/v1/audio-analysis/6Dsh...      101960   \n",
       "1  https://api.spotify.com/v1/audio-analysis/4DZg...      203587   \n",
       "2  https://api.spotify.com/v1/audio-analysis/0KbT...      175227   \n",
       "3  https://api.spotify.com/v1/audio-analysis/0lmR...       92718   \n",
       "4  https://api.spotify.com/v1/audio-analysis/3elu...      753202   \n",
       "\n",
       "  time_signature duration  \n",
       "0              4     1.70  \n",
       "1              4     3.39  \n",
       "2              3     2.92  \n",
       "3              3     1.55  \n",
       "4              4    12.55  \n",
       "\n",
       "[5 rows x 25 columns]"
      ]
     },
     "execution_count": 28,
     "metadata": {},
     "output_type": "execute_result"
    }
   ],
   "source": [
    "df = pd.read_csv(Path('data')/'cleaned_tracks.csv')\n",
    "output_dir = Path('vega_data')\n",
    "output_dir.mkdir(parents=True, exist_ok=True)\n",
    "\n",
    "print(f\"Dataset shape: {df.shape}\")\n",
    "df.head()"
   ]
  },
  {
   "cell_type": "code",
   "execution_count": 29,
   "metadata": {},
   "outputs": [
    {
     "name": "stdout",
     "output_type": "stream",
     "text": [
      "Year range: 2010 to 2024\n"
     ]
    }
   ],
   "source": [
    "df['Release year'] = pd.to_numeric(df['Release year'], errors='coerce') # convert release yr to numeric\n",
    "\n",
    "recent_df = df[df['Release year'] >= 2010].copy()\n",
    "\n",
    "if 'duration' in recent_df.columns:\n",
    "    # if duration is already in minutes, use it\n",
    "    recent_df['duration_min'] = recent_df['duration']\n",
    "elif 'duration_ms' in recent_df.columns:\n",
    "    # if in milliseconds, convert to minutes\n",
    "    recent_df['duration_min'] = recent_df['duration_ms'] / 60000\n",
    "\n",
    "print(f\"Year range: {recent_df['Release year'].min()} to {recent_df['Release year'].max()}\")"
   ]
  },
  {
   "cell_type": "code",
   "execution_count": 30,
   "metadata": {},
   "outputs": [
    {
     "name": "stdout",
     "output_type": "stream",
     "text": [
      "Saved yearly_stats data to: vega_data/yearly_stats.json\n"
     ]
    }
   ],
   "source": [
    "# group by year and calculate statistics\n",
    "yearly_stats = recent_df.groupby('Release year').agg(\n",
    "    mean_duration=('duration_min', 'mean'),\n",
    "    median_duration=('duration_min', 'median'),\n",
    "    std_duration=('duration_min', 'std'),\n",
    "    song_count=('Track ID', 'count'),\n",
    "    mean_popularity=('Popularity', 'mean')\n",
    ").reset_index()\n",
    "\n",
    "yearly_stats.head()\n",
    "\n",
    "yearly_stats_path_json = output_dir / 'yearly_stats.json'\n",
    "yearly_stats.to_json(yearly_stats_path_json, orient='records', indent=2)\n",
    "print(f\"Saved yearly_stats data to: {yearly_stats_path_json}\")"
   ]
  },
  {
   "cell_type": "code",
   "execution_count": 31,
   "metadata": {},
   "outputs": [
    {
     "data": {
      "application/vnd.plotly.v1+json": {
       "config": {
        "plotlyServerURL": "https://plot.ly"
       },
       "data": [
        {
         "hovertemplate": "<b>Year:</b> %{x}<br><b>Avg Duration:</b> %{y:.2f} minutes<br><b>Song Count:</b> %{text}",
         "line": {
          "width": 3
         },
         "marker": {
          "color": "blue",
          "size": {
           "bdata": "0nAjzMBgF0AobbyjmvUXQHYLGTSx/BdA7FAFhbaBGkBYfb0kv0IZQOxQBYW2gRpAYKEmTy5IG0ByXZ/dtGMcQHlHNevP4B9Asm4hgyaWIUCJSLYPHcYjQB1/lGHqwCVAQloccM2zKEAAAAAAAAA0QEj9YE1XCyZA",
           "dtype": "f8"
          }
         },
         "mode": "lines+markers",
         "name": "Avg Duration",
         "text": {
          "bdata": "AAAAAACAXkAAAAAAAOBhQAAAAAAAAGJAAAAAAABgbUAAAAAAAMBnQAAAAAAAYG1AAAAAAABwcEAAAAAAAPByQAAAAAAA0HpAAAAAAAAggUAAAAAAABCGQAAAAAAAiIpAAAAAAACYkEAAAAAAAO6gQAAAAAAAMItA",
          "dtype": "f8"
         },
         "type": "scatter",
         "x": {
          "bdata": "2gfbB9wH3QfeB98H4AfhB+IH4wfkB+UH5gfnB+gH",
          "dtype": "i2"
         },
         "y": {
          "bdata": "SvpZSG2BDUAZCUfgXMkOQGkk4JtXsxBAzKL48ujqD0CP8UkeYS0LQLajIRSG2QxA+l9RCjnpDEDiD2bsW6ALQBV2Kes0iwpAySG8C0PfCUCgXP9Fa34JQISxMs1TfAhAl2UEFHbPBkB6XLIRQQoGQNE92ovxUQVA",
          "dtype": "f8"
         }
        },
        {
         "hoverinfo": "skip",
         "line": {
          "color": "red",
          "dash": "dash",
          "width": 2
         },
         "mode": "lines",
         "name": "Trend",
         "type": "scatter",
         "x": {
          "bdata": "2gfbB9wH3QfeB98H4AfhB+IH4wfkB+UH5gfnB+gH",
          "dtype": "i2"
         },
         "y": {
          "bdata": "YGMo9oQhEEAAdiOO2YYPQIAl9i+pyg5AANXI0XgODkCAhJtzSFINQAA0bhUYlgxAgONAt+fZC0DAkhNZtx0LQEBC5vqGYQpAwPG4nFalCUBAoYs+JukIQMBQXuD1LAhAQAAxgsVwB0CArwMklbQGQABf1sVk+AVA",
          "dtype": "f8"
         }
        }
       ],
       "layout": {
        "annotations": [
         {
          "arrowhead": 2,
          "arrowsize": 1,
          "arrowwidth": 1,
          "font": {
           "color": "gray",
           "size": 12
          },
          "showarrow": true,
          "text": "TikTok becomes popular",
          "x": 2021,
          "y": 4.675138888888889,
          "yshift": 10
         }
        ],
        "height": 600,
        "legend": {
         "orientation": "h",
         "x": 1,
         "xanchor": "right",
         "y": 1.02,
         "yanchor": "bottom"
        },
        "shapes": [
         {
          "line": {
           "color": "gray",
           "dash": "dash",
           "width": 2
          },
          "type": "line",
          "x0": 2021,
          "x1": 2021,
          "xref": "x",
          "y0": 0,
          "y1": 1,
          "yref": "y domain"
         }
        ],
        "template": {
         "data": {
          "bar": [
           {
            "error_x": {
             "color": "#2a3f5f"
            },
            "error_y": {
             "color": "#2a3f5f"
            },
            "marker": {
             "line": {
              "color": "white",
              "width": 0.5
             },
             "pattern": {
              "fillmode": "overlay",
              "size": 10,
              "solidity": 0.2
             }
            },
            "type": "bar"
           }
          ],
          "barpolar": [
           {
            "marker": {
             "line": {
              "color": "white",
              "width": 0.5
             },
             "pattern": {
              "fillmode": "overlay",
              "size": 10,
              "solidity": 0.2
             }
            },
            "type": "barpolar"
           }
          ],
          "carpet": [
           {
            "aaxis": {
             "endlinecolor": "#2a3f5f",
             "gridcolor": "#C8D4E3",
             "linecolor": "#C8D4E3",
             "minorgridcolor": "#C8D4E3",
             "startlinecolor": "#2a3f5f"
            },
            "baxis": {
             "endlinecolor": "#2a3f5f",
             "gridcolor": "#C8D4E3",
             "linecolor": "#C8D4E3",
             "minorgridcolor": "#C8D4E3",
             "startlinecolor": "#2a3f5f"
            },
            "type": "carpet"
           }
          ],
          "choropleth": [
           {
            "colorbar": {
             "outlinewidth": 0,
             "ticks": ""
            },
            "type": "choropleth"
           }
          ],
          "contour": [
           {
            "colorbar": {
             "outlinewidth": 0,
             "ticks": ""
            },
            "colorscale": [
             [
              0,
              "#0d0887"
             ],
             [
              0.1111111111111111,
              "#46039f"
             ],
             [
              0.2222222222222222,
              "#7201a8"
             ],
             [
              0.3333333333333333,
              "#9c179e"
             ],
             [
              0.4444444444444444,
              "#bd3786"
             ],
             [
              0.5555555555555556,
              "#d8576b"
             ],
             [
              0.6666666666666666,
              "#ed7953"
             ],
             [
              0.7777777777777778,
              "#fb9f3a"
             ],
             [
              0.8888888888888888,
              "#fdca26"
             ],
             [
              1,
              "#f0f921"
             ]
            ],
            "type": "contour"
           }
          ],
          "contourcarpet": [
           {
            "colorbar": {
             "outlinewidth": 0,
             "ticks": ""
            },
            "type": "contourcarpet"
           }
          ],
          "heatmap": [
           {
            "colorbar": {
             "outlinewidth": 0,
             "ticks": ""
            },
            "colorscale": [
             [
              0,
              "#0d0887"
             ],
             [
              0.1111111111111111,
              "#46039f"
             ],
             [
              0.2222222222222222,
              "#7201a8"
             ],
             [
              0.3333333333333333,
              "#9c179e"
             ],
             [
              0.4444444444444444,
              "#bd3786"
             ],
             [
              0.5555555555555556,
              "#d8576b"
             ],
             [
              0.6666666666666666,
              "#ed7953"
             ],
             [
              0.7777777777777778,
              "#fb9f3a"
             ],
             [
              0.8888888888888888,
              "#fdca26"
             ],
             [
              1,
              "#f0f921"
             ]
            ],
            "type": "heatmap"
           }
          ],
          "histogram": [
           {
            "marker": {
             "pattern": {
              "fillmode": "overlay",
              "size": 10,
              "solidity": 0.2
             }
            },
            "type": "histogram"
           }
          ],
          "histogram2d": [
           {
            "colorbar": {
             "outlinewidth": 0,
             "ticks": ""
            },
            "colorscale": [
             [
              0,
              "#0d0887"
             ],
             [
              0.1111111111111111,
              "#46039f"
             ],
             [
              0.2222222222222222,
              "#7201a8"
             ],
             [
              0.3333333333333333,
              "#9c179e"
             ],
             [
              0.4444444444444444,
              "#bd3786"
             ],
             [
              0.5555555555555556,
              "#d8576b"
             ],
             [
              0.6666666666666666,
              "#ed7953"
             ],
             [
              0.7777777777777778,
              "#fb9f3a"
             ],
             [
              0.8888888888888888,
              "#fdca26"
             ],
             [
              1,
              "#f0f921"
             ]
            ],
            "type": "histogram2d"
           }
          ],
          "histogram2dcontour": [
           {
            "colorbar": {
             "outlinewidth": 0,
             "ticks": ""
            },
            "colorscale": [
             [
              0,
              "#0d0887"
             ],
             [
              0.1111111111111111,
              "#46039f"
             ],
             [
              0.2222222222222222,
              "#7201a8"
             ],
             [
              0.3333333333333333,
              "#9c179e"
             ],
             [
              0.4444444444444444,
              "#bd3786"
             ],
             [
              0.5555555555555556,
              "#d8576b"
             ],
             [
              0.6666666666666666,
              "#ed7953"
             ],
             [
              0.7777777777777778,
              "#fb9f3a"
             ],
             [
              0.8888888888888888,
              "#fdca26"
             ],
             [
              1,
              "#f0f921"
             ]
            ],
            "type": "histogram2dcontour"
           }
          ],
          "mesh3d": [
           {
            "colorbar": {
             "outlinewidth": 0,
             "ticks": ""
            },
            "type": "mesh3d"
           }
          ],
          "parcoords": [
           {
            "line": {
             "colorbar": {
              "outlinewidth": 0,
              "ticks": ""
             }
            },
            "type": "parcoords"
           }
          ],
          "pie": [
           {
            "automargin": true,
            "type": "pie"
           }
          ],
          "scatter": [
           {
            "fillpattern": {
             "fillmode": "overlay",
             "size": 10,
             "solidity": 0.2
            },
            "type": "scatter"
           }
          ],
          "scatter3d": [
           {
            "line": {
             "colorbar": {
              "outlinewidth": 0,
              "ticks": ""
             }
            },
            "marker": {
             "colorbar": {
              "outlinewidth": 0,
              "ticks": ""
             }
            },
            "type": "scatter3d"
           }
          ],
          "scattercarpet": [
           {
            "marker": {
             "colorbar": {
              "outlinewidth": 0,
              "ticks": ""
             }
            },
            "type": "scattercarpet"
           }
          ],
          "scattergeo": [
           {
            "marker": {
             "colorbar": {
              "outlinewidth": 0,
              "ticks": ""
             }
            },
            "type": "scattergeo"
           }
          ],
          "scattergl": [
           {
            "marker": {
             "colorbar": {
              "outlinewidth": 0,
              "ticks": ""
             }
            },
            "type": "scattergl"
           }
          ],
          "scattermap": [
           {
            "marker": {
             "colorbar": {
              "outlinewidth": 0,
              "ticks": ""
             }
            },
            "type": "scattermap"
           }
          ],
          "scattermapbox": [
           {
            "marker": {
             "colorbar": {
              "outlinewidth": 0,
              "ticks": ""
             }
            },
            "type": "scattermapbox"
           }
          ],
          "scatterpolar": [
           {
            "marker": {
             "colorbar": {
              "outlinewidth": 0,
              "ticks": ""
             }
            },
            "type": "scatterpolar"
           }
          ],
          "scatterpolargl": [
           {
            "marker": {
             "colorbar": {
              "outlinewidth": 0,
              "ticks": ""
             }
            },
            "type": "scatterpolargl"
           }
          ],
          "scatterternary": [
           {
            "marker": {
             "colorbar": {
              "outlinewidth": 0,
              "ticks": ""
             }
            },
            "type": "scatterternary"
           }
          ],
          "surface": [
           {
            "colorbar": {
             "outlinewidth": 0,
             "ticks": ""
            },
            "colorscale": [
             [
              0,
              "#0d0887"
             ],
             [
              0.1111111111111111,
              "#46039f"
             ],
             [
              0.2222222222222222,
              "#7201a8"
             ],
             [
              0.3333333333333333,
              "#9c179e"
             ],
             [
              0.4444444444444444,
              "#bd3786"
             ],
             [
              0.5555555555555556,
              "#d8576b"
             ],
             [
              0.6666666666666666,
              "#ed7953"
             ],
             [
              0.7777777777777778,
              "#fb9f3a"
             ],
             [
              0.8888888888888888,
              "#fdca26"
             ],
             [
              1,
              "#f0f921"
             ]
            ],
            "type": "surface"
           }
          ],
          "table": [
           {
            "cells": {
             "fill": {
              "color": "#EBF0F8"
             },
             "line": {
              "color": "white"
             }
            },
            "header": {
             "fill": {
              "color": "#C8D4E3"
             },
             "line": {
              "color": "white"
             }
            },
            "type": "table"
           }
          ]
         },
         "layout": {
          "annotationdefaults": {
           "arrowcolor": "#2a3f5f",
           "arrowhead": 0,
           "arrowwidth": 1
          },
          "autotypenumbers": "strict",
          "coloraxis": {
           "colorbar": {
            "outlinewidth": 0,
            "ticks": ""
           }
          },
          "colorscale": {
           "diverging": [
            [
             0,
             "#8e0152"
            ],
            [
             0.1,
             "#c51b7d"
            ],
            [
             0.2,
             "#de77ae"
            ],
            [
             0.3,
             "#f1b6da"
            ],
            [
             0.4,
             "#fde0ef"
            ],
            [
             0.5,
             "#f7f7f7"
            ],
            [
             0.6,
             "#e6f5d0"
            ],
            [
             0.7,
             "#b8e186"
            ],
            [
             0.8,
             "#7fbc41"
            ],
            [
             0.9,
             "#4d9221"
            ],
            [
             1,
             "#276419"
            ]
           ],
           "sequential": [
            [
             0,
             "#0d0887"
            ],
            [
             0.1111111111111111,
             "#46039f"
            ],
            [
             0.2222222222222222,
             "#7201a8"
            ],
            [
             0.3333333333333333,
             "#9c179e"
            ],
            [
             0.4444444444444444,
             "#bd3786"
            ],
            [
             0.5555555555555556,
             "#d8576b"
            ],
            [
             0.6666666666666666,
             "#ed7953"
            ],
            [
             0.7777777777777778,
             "#fb9f3a"
            ],
            [
             0.8888888888888888,
             "#fdca26"
            ],
            [
             1,
             "#f0f921"
            ]
           ],
           "sequentialminus": [
            [
             0,
             "#0d0887"
            ],
            [
             0.1111111111111111,
             "#46039f"
            ],
            [
             0.2222222222222222,
             "#7201a8"
            ],
            [
             0.3333333333333333,
             "#9c179e"
            ],
            [
             0.4444444444444444,
             "#bd3786"
            ],
            [
             0.5555555555555556,
             "#d8576b"
            ],
            [
             0.6666666666666666,
             "#ed7953"
            ],
            [
             0.7777777777777778,
             "#fb9f3a"
            ],
            [
             0.8888888888888888,
             "#fdca26"
            ],
            [
             1,
             "#f0f921"
            ]
           ]
          },
          "colorway": [
           "#636efa",
           "#EF553B",
           "#00cc96",
           "#ab63fa",
           "#FFA15A",
           "#19d3f3",
           "#FF6692",
           "#B6E880",
           "#FF97FF",
           "#FECB52"
          ],
          "font": {
           "color": "#2a3f5f"
          },
          "geo": {
           "bgcolor": "white",
           "lakecolor": "white",
           "landcolor": "white",
           "showlakes": true,
           "showland": true,
           "subunitcolor": "#C8D4E3"
          },
          "hoverlabel": {
           "align": "left"
          },
          "hovermode": "closest",
          "mapbox": {
           "style": "light"
          },
          "paper_bgcolor": "white",
          "plot_bgcolor": "white",
          "polar": {
           "angularaxis": {
            "gridcolor": "#EBF0F8",
            "linecolor": "#EBF0F8",
            "ticks": ""
           },
           "bgcolor": "white",
           "radialaxis": {
            "gridcolor": "#EBF0F8",
            "linecolor": "#EBF0F8",
            "ticks": ""
           }
          },
          "scene": {
           "xaxis": {
            "backgroundcolor": "white",
            "gridcolor": "#DFE8F3",
            "gridwidth": 2,
            "linecolor": "#EBF0F8",
            "showbackground": true,
            "ticks": "",
            "zerolinecolor": "#EBF0F8"
           },
           "yaxis": {
            "backgroundcolor": "white",
            "gridcolor": "#DFE8F3",
            "gridwidth": 2,
            "linecolor": "#EBF0F8",
            "showbackground": true,
            "ticks": "",
            "zerolinecolor": "#EBF0F8"
           },
           "zaxis": {
            "backgroundcolor": "white",
            "gridcolor": "#DFE8F3",
            "gridwidth": 2,
            "linecolor": "#EBF0F8",
            "showbackground": true,
            "ticks": "",
            "zerolinecolor": "#EBF0F8"
           }
          },
          "shapedefaults": {
           "line": {
            "color": "#2a3f5f"
           }
          },
          "ternary": {
           "aaxis": {
            "gridcolor": "#DFE8F3",
            "linecolor": "#A2B1C6",
            "ticks": ""
           },
           "baxis": {
            "gridcolor": "#DFE8F3",
            "linecolor": "#A2B1C6",
            "ticks": ""
           },
           "bgcolor": "white",
           "caxis": {
            "gridcolor": "#DFE8F3",
            "linecolor": "#A2B1C6",
            "ticks": ""
           }
          },
          "title": {
           "x": 0.05
          },
          "xaxis": {
           "automargin": true,
           "gridcolor": "#EBF0F8",
           "linecolor": "#EBF0F8",
           "ticks": "",
           "title": {
            "standoff": 15
           },
           "zerolinecolor": "#EBF0F8",
           "zerolinewidth": 2
          },
          "yaxis": {
           "automargin": true,
           "gridcolor": "#EBF0F8",
           "linecolor": "#EBF0F8",
           "ticks": "",
           "title": {
            "standoff": 15
           },
           "zerolinecolor": "#EBF0F8",
           "zerolinewidth": 2
          }
         }
        },
        "title": {
         "text": "The \"Tiktokification\" of Music: Shrinking Song Durations (2010-Present)",
         "x": 0.5,
         "xanchor": "center",
         "yanchor": "top"
        },
        "xaxis": {
         "anchor": "y",
         "domain": [
          0,
          1
         ],
         "hoverformat": ".0f",
         "title": {
          "text": "Release Year"
         }
        },
        "yaxis": {
         "anchor": "x",
         "domain": [
          0,
          1
         ],
         "title": {
          "text": "Average Song Duration (minutes)"
         }
        }
       }
      }
     },
     "metadata": {},
     "output_type": "display_data"
    }
   ],
   "source": [
    "# Create the figure\n",
    "fig = make_subplots(specs=[[{\"secondary_y\": False}]])\n",
    "\n",
    "# Plot Average Song Duration\n",
    "fig.add_trace(\n",
    "    go.Scatter(\n",
    "        x=yearly_stats['Release year'],\n",
    "        y=yearly_stats['mean_duration'],\n",
    "        mode='lines+markers',\n",
    "        name='Avg Duration',\n",
    "        marker=dict(\n",
    "            size=yearly_stats['song_count'] / yearly_stats['song_count'].max() * 15 + 5,\n",
    "            color='blue',  # Single color to reduce mental load\n",
    "        ),\n",
    "        line=dict(width=3),\n",
    "        hovertemplate='<b>Year:</b> %{x}<br>' +\n",
    "                      '<b>Avg Duration:</b> %{y:.2f} minutes<br>' +\n",
    "                      '<b>Song Count:</b> %{text}',\n",
    "        text=yearly_stats['song_count']\n",
    "    )\n",
    ")\n",
    "\n",
    "# Trendline (linear regression)\n",
    "z = np.polyfit(yearly_stats['Release year'], yearly_stats['mean_duration'], 1)\n",
    "p = np.poly1d(z)\n",
    "fig.add_trace(\n",
    "    go.Scatter(\n",
    "        x=yearly_stats['Release year'],\n",
    "        y=p(yearly_stats['Release year']),\n",
    "        mode='lines',\n",
    "        name='Trend',\n",
    "        line=dict(color='red', width=2, dash='dash'),\n",
    "        hoverinfo='skip'\n",
    "    )\n",
    ")\n",
    "\n",
    "# TikTok rise annotation + vertical line\n",
    "fig.add_vline(\n",
    "    x=2021, \n",
    "    line_width=2, \n",
    "    line_dash=\"dash\", \n",
    "    line_color=\"gray\"\n",
    ")\n",
    "\n",
    "fig.add_annotation(\n",
    "    x=2021,\n",
    "    y=max(yearly_stats['mean_duration']) + 0.5,\n",
    "    text=\"TikTok becomes popular\",\n",
    "    showarrow=True,\n",
    "    arrowhead=2,\n",
    "    arrowsize=1,\n",
    "    arrowwidth=1,\n",
    "    yshift=10,\n",
    "    font=dict(size=12, color=\"gray\")\n",
    ")\n",
    "\n",
    "# Layout polishing\n",
    "fig.update_layout(\n",
    "    title={\n",
    "        'text': 'The \"Tiktokification\" of Music: Shrinking Song Durations (2010-Present)',\n",
    "        'x': 0.5,\n",
    "        'xanchor': 'center',\n",
    "        'yanchor': 'top'\n",
    "    },\n",
    "    xaxis_title='Release Year',\n",
    "    yaxis_title='Average Song Duration (minutes)',\n",
    "    legend=dict(\n",
    "        orientation=\"h\",\n",
    "        yanchor=\"bottom\",\n",
    "        y=1.02,\n",
    "        xanchor=\"right\",\n",
    "        x=1\n",
    "    ),\n",
    "    template='plotly_white',\n",
    "    height=600\n",
    ")\n",
    "\n",
    "fig.update_xaxes(hoverformat='.0f')\n",
    "\n",
    "fig.show()"
   ]
  },
  {
   "cell_type": "code",
   "execution_count": 32,
   "metadata": {},
   "outputs": [
    {
     "name": "stdout",
     "output_type": "stream",
     "text": [
      "Saved category change data to: vega_data/category_change_stats.json\n"
     ]
    },
    {
     "data": {
      "application/vnd.plotly.v1+json": {
       "config": {
        "plotlyServerURL": "https://plot.ly"
       },
       "data": [
        {
         "customdata": [
          [
           4.382857142857143,
           2.3728654970760235,
           185,
           "Other"
          ],
          [
           3.7995652173913044,
           2.3017045454545455,
           199,
           "Other"
          ],
          [
           3.6063636363636364,
           2.2484916201117318,
           190,
           "Other"
          ],
          [
           4.6605357142857144,
           2.9715555555555557,
           146,
           "Other"
          ],
          [
           3.8515789473684214,
           2.491949685534591,
           178,
           "Other"
          ],
          [
           3.9650000000000003,
           2.777823529411765,
           188,
           "Other"
          ],
          [
           3.958,
           2.815120481927711,
           191,
           "Other"
          ],
          [
           3.949622641509434,
           2.887078651685393,
           142,
           "Other"
          ],
          [
           3.475853658536585,
           2.553406593406593,
           173,
           "Other"
          ],
          [
           3.611282051282051,
           2.776794871794872,
           195,
           "Other"
          ],
          [
           3.763555555555556,
           2.9471134020618557,
           142,
           "Other"
          ],
          [
           3.954772727272727,
           3.123474576271186,
           162,
           "Other"
          ],
          [
           3.8611904761904765,
           3.0549999999999997,
           164,
           "Other"
          ],
          [
           3.529375,
           2.80406015037594,
           181,
           "Other"
          ],
          [
           4.3209375,
           3.457941176470588,
           166,
           "Other"
          ],
          [
           3.464,
           2.7742767295597486,
           179,
           "Other"
          ],
          [
           3.3738,
           2.719858156028369,
           191,
           "Other"
          ],
          [
           3.451935483870968,
           2.787883211678832,
           168,
           "Other"
          ],
          [
           4.137777777777778,
           3.3419117647058822,
           95,
           "Other"
          ],
          [
           3.5025714285714287,
           2.8310101010101008,
           169,
           "Other"
          ],
          [
           3.975357142857143,
           3.236222222222222,
           146,
           "Other"
          ],
          [
           3.5643333333333334,
           2.910166666666667,
           150,
           "Other"
          ],
          [
           3.5395833333333333,
           2.9273170731707316,
           188,
           "Other"
          ],
          [
           3.2338095238095237,
           2.678411214953271,
           128,
           "Other"
          ],
          [
           3.872448979591837,
           3.2123387096774194,
           173,
           "Other"
          ],
          [
           3.6945,
           3.0806422018348627,
           149,
           "Other"
          ],
          [
           3.776595744680851,
           3.1555555555555554,
           191,
           "Other"
          ],
          [
           3.6523809523809527,
           3.0646666666666667,
           87,
           "Other"
          ],
          [
           3.7893333333333334,
           3.1858558558558556,
           156,
           "Other"
          ],
          [
           3.658378378378378,
           3.0925,
           146,
           "Other"
          ],
          [
           3.784864864864865,
           3.2250757575757576,
           169,
           "Other"
          ],
          [
           3.5792105263157894,
           3.0538775510204084,
           185,
           "Other"
          ],
          [
           3.5956756756756754,
           3.096950354609929,
           178,
           "Other"
          ],
          [
           3.0933333333333333,
           2.7126060606060607,
           192,
           "Other"
          ],
          [
           3.536153846153846,
           3.1146103896103896,
           180,
           "Other"
          ],
          [
           3.259324324324324,
           2.9117886178861787,
           197,
           "Other"
          ],
          [
           3.5598039215686277,
           3.18039603960396,
           152,
           "Other"
          ],
          [
           3.157857142857143,
           2.8623972602739727,
           174,
           "Other"
          ],
          [
           3.6206,
           3.315809523809524,
           155,
           "Other"
          ],
          [
           3.70953488372093,
           3.4049137931034483,
           159,
           "Other"
          ],
          [
           3.181282051282051,
           2.952131147540984,
           161,
           "Other"
          ],
          [
           2.5468,
           2.3635672514619883,
           196,
           "Other"
          ],
          [
           3.1025,
           2.8992941176470586,
           125,
           "Other"
          ],
          [
           3.2801923076923076,
           3.095575221238938,
           165,
           "Other"
          ],
          [
           2.8508510638297873,
           2.891451612903226,
           171,
           "Other"
          ],
          [
           3.556170212765957,
           4.035402298850575,
           134,
           "Other"
          ],
          [
           2.1223880597014926,
           2.489325842696629,
           156,
           "Other"
          ]
         ],
         "hovertemplate": "Music Category=%{x}<br>Duration Change (%)=%{y}<br>Pre-TikTok (2010-2018)=%{customdata[0]}<br>Post-TikTok (2019+)=%{customdata[1]}<br>song_count=%{customdata[2]}<extra></extra>",
         "legendgroup": "Other",
         "marker": {
          "color": "#A0A0A0",
          "pattern": {
           "shape": ""
          }
         },
         "name": "Other",
         "orientation": "v",
         "showlegend": true,
         "textposition": "auto",
         "type": "bar",
         "x": [
          "Ambient",
          "Anime",
          "Gaming",
          "Classical",
          "RADAR",
          "Frequency",
          "GLOW",
          "Rock",
          "Instrumental",
          "Netflix",
          "Punk",
          "Afro",
          "At Home",
          "Throwback",
          "Decades",
          "Mood",
          "Wellness",
          "Chill",
          "Metal",
          "Kids & Family",
          "Travel",
          "Alternative",
          "Disney",
          "K-pop",
          "Desi",
          "Soul",
          "Dance/Electronic",
          "Party",
          "Love",
          "Caribbean",
          "R&B",
          "Workout",
          "EQUAL",
          "Trending",
          "Indie",
          "Folk & Acoustic",
          "Country",
          "Focus",
          "In the car",
          "Sleep",
          "Jazz",
          "Cooking & Dining",
          "Blues",
          "Student",
          "Charts",
          "Hip-Hop",
          "TV & Movies"
         ],
         "xaxis": "x",
         "y": {
          "bdata": "eRbxdx7uRsCGfFi1ALZDwOMnKVp400LA3gDDvLkeQsCD+7UGeaZBwBFLd4b/8D3A/xzUngvgPMA+sJjcBOc6wC/obYvpiTrA7lXil5cbN8BMK3/ogLE1wGpXGeEmBTXA9Yt3YxvhNMDjt1lTAY00wNzBT1Xx+DPASp1eFUPpM8AFU6PFCGIzwMsAppGyPDPAEU2MqvA7M8BOxaagYiwzwJDDsITJlzLAUIRVnGZaMsCUhI+cNUwxwGtP8567LDHAqOwhAtwLMcCg86Mgjp0wwB3HcRzHcTDAy1gKH10XMMBIGCkI9NkvwOEh+Cqf7y7AjOx7LZWULcBa6S+XzFotwNZ7oD+DvSvAWfKuWrGdKMCudC72h9cnwD4x2GtcUyXA8MDGB/RQJcDnsttTcrYiwDfE6mMi1iDAcj4SXnZsIMB5W0tA+c8cwImvhS1MxxzA05YGufAyGsCj4CFGUYMWwPZMaClXyfY/H93Az7/zKkCD23gS9kkxQA==",
          "dtype": "f8"
         },
         "yaxis": "y"
        },
        {
         "customdata": [
          [
           4.2815625,
           2.4026373626373627,
           155,
           "Highlighted"
          ],
          [
           4.090512820512821,
           3.1229770992366412,
           170,
           "Highlighted"
          ],
          [
           3.4629166666666666,
           2.8209999999999997,
           174,
           "Highlighted"
          ]
         ],
         "hovertemplate": "Music Category=%{x}<br>Duration Change (%)=%{y}<br>Pre-TikTok (2010-2018)=%{customdata[0]}<br>Post-TikTok (2019+)=%{customdata[1]}<br>song_count=%{customdata[2]}<extra></extra>",
         "legendgroup": "Highlighted",
         "marker": {
          "color": "#FF4B4B",
          "pattern": {
           "shape": ""
          }
         },
         "name": "Highlighted",
         "orientation": "v",
         "showlegend": true,
         "textposition": "auto",
         "type": "bar",
         "x": [
          "New Releases",
          "Discover",
          "Pop"
         ],
         "xaxis": "x",
         "y": {
          "bdata": "yD0fKirxRcDW0dPHNac3wJtvL+RwiTLA",
          "dtype": "f8"
         },
         "yaxis": "y"
        }
       ],
       "layout": {
        "barmode": "relative",
        "legend": {
         "title": {
          "text": "highlight"
         },
         "tracegroupgap": 0
        },
        "plot_bgcolor": "white",
        "showlegend": false,
        "template": {
         "data": {
          "bar": [
           {
            "error_x": {
             "color": "#2a3f5f"
            },
            "error_y": {
             "color": "#2a3f5f"
            },
            "marker": {
             "line": {
              "color": "#E5ECF6",
              "width": 0.5
             },
             "pattern": {
              "fillmode": "overlay",
              "size": 10,
              "solidity": 0.2
             }
            },
            "type": "bar"
           }
          ],
          "barpolar": [
           {
            "marker": {
             "line": {
              "color": "#E5ECF6",
              "width": 0.5
             },
             "pattern": {
              "fillmode": "overlay",
              "size": 10,
              "solidity": 0.2
             }
            },
            "type": "barpolar"
           }
          ],
          "carpet": [
           {
            "aaxis": {
             "endlinecolor": "#2a3f5f",
             "gridcolor": "white",
             "linecolor": "white",
             "minorgridcolor": "white",
             "startlinecolor": "#2a3f5f"
            },
            "baxis": {
             "endlinecolor": "#2a3f5f",
             "gridcolor": "white",
             "linecolor": "white",
             "minorgridcolor": "white",
             "startlinecolor": "#2a3f5f"
            },
            "type": "carpet"
           }
          ],
          "choropleth": [
           {
            "colorbar": {
             "outlinewidth": 0,
             "ticks": ""
            },
            "type": "choropleth"
           }
          ],
          "contour": [
           {
            "colorbar": {
             "outlinewidth": 0,
             "ticks": ""
            },
            "colorscale": [
             [
              0,
              "#0d0887"
             ],
             [
              0.1111111111111111,
              "#46039f"
             ],
             [
              0.2222222222222222,
              "#7201a8"
             ],
             [
              0.3333333333333333,
              "#9c179e"
             ],
             [
              0.4444444444444444,
              "#bd3786"
             ],
             [
              0.5555555555555556,
              "#d8576b"
             ],
             [
              0.6666666666666666,
              "#ed7953"
             ],
             [
              0.7777777777777778,
              "#fb9f3a"
             ],
             [
              0.8888888888888888,
              "#fdca26"
             ],
             [
              1,
              "#f0f921"
             ]
            ],
            "type": "contour"
           }
          ],
          "contourcarpet": [
           {
            "colorbar": {
             "outlinewidth": 0,
             "ticks": ""
            },
            "type": "contourcarpet"
           }
          ],
          "heatmap": [
           {
            "colorbar": {
             "outlinewidth": 0,
             "ticks": ""
            },
            "colorscale": [
             [
              0,
              "#0d0887"
             ],
             [
              0.1111111111111111,
              "#46039f"
             ],
             [
              0.2222222222222222,
              "#7201a8"
             ],
             [
              0.3333333333333333,
              "#9c179e"
             ],
             [
              0.4444444444444444,
              "#bd3786"
             ],
             [
              0.5555555555555556,
              "#d8576b"
             ],
             [
              0.6666666666666666,
              "#ed7953"
             ],
             [
              0.7777777777777778,
              "#fb9f3a"
             ],
             [
              0.8888888888888888,
              "#fdca26"
             ],
             [
              1,
              "#f0f921"
             ]
            ],
            "type": "heatmap"
           }
          ],
          "histogram": [
           {
            "marker": {
             "pattern": {
              "fillmode": "overlay",
              "size": 10,
              "solidity": 0.2
             }
            },
            "type": "histogram"
           }
          ],
          "histogram2d": [
           {
            "colorbar": {
             "outlinewidth": 0,
             "ticks": ""
            },
            "colorscale": [
             [
              0,
              "#0d0887"
             ],
             [
              0.1111111111111111,
              "#46039f"
             ],
             [
              0.2222222222222222,
              "#7201a8"
             ],
             [
              0.3333333333333333,
              "#9c179e"
             ],
             [
              0.4444444444444444,
              "#bd3786"
             ],
             [
              0.5555555555555556,
              "#d8576b"
             ],
             [
              0.6666666666666666,
              "#ed7953"
             ],
             [
              0.7777777777777778,
              "#fb9f3a"
             ],
             [
              0.8888888888888888,
              "#fdca26"
             ],
             [
              1,
              "#f0f921"
             ]
            ],
            "type": "histogram2d"
           }
          ],
          "histogram2dcontour": [
           {
            "colorbar": {
             "outlinewidth": 0,
             "ticks": ""
            },
            "colorscale": [
             [
              0,
              "#0d0887"
             ],
             [
              0.1111111111111111,
              "#46039f"
             ],
             [
              0.2222222222222222,
              "#7201a8"
             ],
             [
              0.3333333333333333,
              "#9c179e"
             ],
             [
              0.4444444444444444,
              "#bd3786"
             ],
             [
              0.5555555555555556,
              "#d8576b"
             ],
             [
              0.6666666666666666,
              "#ed7953"
             ],
             [
              0.7777777777777778,
              "#fb9f3a"
             ],
             [
              0.8888888888888888,
              "#fdca26"
             ],
             [
              1,
              "#f0f921"
             ]
            ],
            "type": "histogram2dcontour"
           }
          ],
          "mesh3d": [
           {
            "colorbar": {
             "outlinewidth": 0,
             "ticks": ""
            },
            "type": "mesh3d"
           }
          ],
          "parcoords": [
           {
            "line": {
             "colorbar": {
              "outlinewidth": 0,
              "ticks": ""
             }
            },
            "type": "parcoords"
           }
          ],
          "pie": [
           {
            "automargin": true,
            "type": "pie"
           }
          ],
          "scatter": [
           {
            "fillpattern": {
             "fillmode": "overlay",
             "size": 10,
             "solidity": 0.2
            },
            "type": "scatter"
           }
          ],
          "scatter3d": [
           {
            "line": {
             "colorbar": {
              "outlinewidth": 0,
              "ticks": ""
             }
            },
            "marker": {
             "colorbar": {
              "outlinewidth": 0,
              "ticks": ""
             }
            },
            "type": "scatter3d"
           }
          ],
          "scattercarpet": [
           {
            "marker": {
             "colorbar": {
              "outlinewidth": 0,
              "ticks": ""
             }
            },
            "type": "scattercarpet"
           }
          ],
          "scattergeo": [
           {
            "marker": {
             "colorbar": {
              "outlinewidth": 0,
              "ticks": ""
             }
            },
            "type": "scattergeo"
           }
          ],
          "scattergl": [
           {
            "marker": {
             "colorbar": {
              "outlinewidth": 0,
              "ticks": ""
             }
            },
            "type": "scattergl"
           }
          ],
          "scattermap": [
           {
            "marker": {
             "colorbar": {
              "outlinewidth": 0,
              "ticks": ""
             }
            },
            "type": "scattermap"
           }
          ],
          "scattermapbox": [
           {
            "marker": {
             "colorbar": {
              "outlinewidth": 0,
              "ticks": ""
             }
            },
            "type": "scattermapbox"
           }
          ],
          "scatterpolar": [
           {
            "marker": {
             "colorbar": {
              "outlinewidth": 0,
              "ticks": ""
             }
            },
            "type": "scatterpolar"
           }
          ],
          "scatterpolargl": [
           {
            "marker": {
             "colorbar": {
              "outlinewidth": 0,
              "ticks": ""
             }
            },
            "type": "scatterpolargl"
           }
          ],
          "scatterternary": [
           {
            "marker": {
             "colorbar": {
              "outlinewidth": 0,
              "ticks": ""
             }
            },
            "type": "scatterternary"
           }
          ],
          "surface": [
           {
            "colorbar": {
             "outlinewidth": 0,
             "ticks": ""
            },
            "colorscale": [
             [
              0,
              "#0d0887"
             ],
             [
              0.1111111111111111,
              "#46039f"
             ],
             [
              0.2222222222222222,
              "#7201a8"
             ],
             [
              0.3333333333333333,
              "#9c179e"
             ],
             [
              0.4444444444444444,
              "#bd3786"
             ],
             [
              0.5555555555555556,
              "#d8576b"
             ],
             [
              0.6666666666666666,
              "#ed7953"
             ],
             [
              0.7777777777777778,
              "#fb9f3a"
             ],
             [
              0.8888888888888888,
              "#fdca26"
             ],
             [
              1,
              "#f0f921"
             ]
            ],
            "type": "surface"
           }
          ],
          "table": [
           {
            "cells": {
             "fill": {
              "color": "#EBF0F8"
             },
             "line": {
              "color": "white"
             }
            },
            "header": {
             "fill": {
              "color": "#C8D4E3"
             },
             "line": {
              "color": "white"
             }
            },
            "type": "table"
           }
          ]
         },
         "layout": {
          "annotationdefaults": {
           "arrowcolor": "#2a3f5f",
           "arrowhead": 0,
           "arrowwidth": 1
          },
          "autotypenumbers": "strict",
          "coloraxis": {
           "colorbar": {
            "outlinewidth": 0,
            "ticks": ""
           }
          },
          "colorscale": {
           "diverging": [
            [
             0,
             "#8e0152"
            ],
            [
             0.1,
             "#c51b7d"
            ],
            [
             0.2,
             "#de77ae"
            ],
            [
             0.3,
             "#f1b6da"
            ],
            [
             0.4,
             "#fde0ef"
            ],
            [
             0.5,
             "#f7f7f7"
            ],
            [
             0.6,
             "#e6f5d0"
            ],
            [
             0.7,
             "#b8e186"
            ],
            [
             0.8,
             "#7fbc41"
            ],
            [
             0.9,
             "#4d9221"
            ],
            [
             1,
             "#276419"
            ]
           ],
           "sequential": [
            [
             0,
             "#0d0887"
            ],
            [
             0.1111111111111111,
             "#46039f"
            ],
            [
             0.2222222222222222,
             "#7201a8"
            ],
            [
             0.3333333333333333,
             "#9c179e"
            ],
            [
             0.4444444444444444,
             "#bd3786"
            ],
            [
             0.5555555555555556,
             "#d8576b"
            ],
            [
             0.6666666666666666,
             "#ed7953"
            ],
            [
             0.7777777777777778,
             "#fb9f3a"
            ],
            [
             0.8888888888888888,
             "#fdca26"
            ],
            [
             1,
             "#f0f921"
            ]
           ],
           "sequentialminus": [
            [
             0,
             "#0d0887"
            ],
            [
             0.1111111111111111,
             "#46039f"
            ],
            [
             0.2222222222222222,
             "#7201a8"
            ],
            [
             0.3333333333333333,
             "#9c179e"
            ],
            [
             0.4444444444444444,
             "#bd3786"
            ],
            [
             0.5555555555555556,
             "#d8576b"
            ],
            [
             0.6666666666666666,
             "#ed7953"
            ],
            [
             0.7777777777777778,
             "#fb9f3a"
            ],
            [
             0.8888888888888888,
             "#fdca26"
            ],
            [
             1,
             "#f0f921"
            ]
           ]
          },
          "colorway": [
           "#636efa",
           "#EF553B",
           "#00cc96",
           "#ab63fa",
           "#FFA15A",
           "#19d3f3",
           "#FF6692",
           "#B6E880",
           "#FF97FF",
           "#FECB52"
          ],
          "font": {
           "color": "#2a3f5f"
          },
          "geo": {
           "bgcolor": "white",
           "lakecolor": "white",
           "landcolor": "#E5ECF6",
           "showlakes": true,
           "showland": true,
           "subunitcolor": "white"
          },
          "hoverlabel": {
           "align": "left"
          },
          "hovermode": "closest",
          "mapbox": {
           "style": "light"
          },
          "paper_bgcolor": "white",
          "plot_bgcolor": "#E5ECF6",
          "polar": {
           "angularaxis": {
            "gridcolor": "white",
            "linecolor": "white",
            "ticks": ""
           },
           "bgcolor": "#E5ECF6",
           "radialaxis": {
            "gridcolor": "white",
            "linecolor": "white",
            "ticks": ""
           }
          },
          "scene": {
           "xaxis": {
            "backgroundcolor": "#E5ECF6",
            "gridcolor": "white",
            "gridwidth": 2,
            "linecolor": "white",
            "showbackground": true,
            "ticks": "",
            "zerolinecolor": "white"
           },
           "yaxis": {
            "backgroundcolor": "#E5ECF6",
            "gridcolor": "white",
            "gridwidth": 2,
            "linecolor": "white",
            "showbackground": true,
            "ticks": "",
            "zerolinecolor": "white"
           },
           "zaxis": {
            "backgroundcolor": "#E5ECF6",
            "gridcolor": "white",
            "gridwidth": 2,
            "linecolor": "white",
            "showbackground": true,
            "ticks": "",
            "zerolinecolor": "white"
           }
          },
          "shapedefaults": {
           "line": {
            "color": "#2a3f5f"
           }
          },
          "ternary": {
           "aaxis": {
            "gridcolor": "white",
            "linecolor": "white",
            "ticks": ""
           },
           "baxis": {
            "gridcolor": "white",
            "linecolor": "white",
            "ticks": ""
           },
           "bgcolor": "#E5ECF6",
           "caxis": {
            "gridcolor": "white",
            "linecolor": "white",
            "ticks": ""
           }
          },
          "title": {
           "x": 0.05
          },
          "xaxis": {
           "automargin": true,
           "gridcolor": "white",
           "linecolor": "white",
           "ticks": "",
           "title": {
            "standoff": 15
           },
           "zerolinecolor": "white",
           "zerolinewidth": 2
          },
          "yaxis": {
           "automargin": true,
           "gridcolor": "white",
           "linecolor": "white",
           "ticks": "",
           "title": {
            "standoff": 15
           },
           "zerolinecolor": "white",
           "zerolinewidth": 2
          }
         }
        },
        "title": {
         "text": "Song Duration Change by Category (Pre vs Post TikTok Era)"
        },
        "xaxis": {
         "anchor": "y",
         "categoryarray": [
          "Ambient",
          "New Releases",
          "Anime",
          "Gaming",
          "Classical",
          "RADAR",
          "Frequency",
          "GLOW",
          "Rock",
          "Instrumental",
          "Discover",
          "Netflix",
          "Punk",
          "Afro",
          "At Home",
          "Throwback",
          "Decades",
          "Mood",
          "Wellness",
          "Chill",
          "Metal",
          "Kids & Family",
          "Travel",
          "Pop",
          "Alternative",
          "Disney",
          "K-pop",
          "Desi",
          "Soul",
          "Dance/Electronic",
          "Party",
          "Love",
          "Caribbean",
          "R&B",
          "Workout",
          "EQUAL",
          "Trending",
          "Indie",
          "Folk & Acoustic",
          "Country",
          "Focus",
          "In the car",
          "Sleep",
          "Jazz",
          "Cooking & Dining",
          "Blues",
          "Student",
          "Charts",
          "Hip-Hop",
          "TV & Movies"
         ],
         "categoryorder": "array",
         "domain": [
          0,
          1
         ],
         "tickangle": -45,
         "title": {
          "text": "Music Category"
         }
        },
        "yaxis": {
         "anchor": "x",
         "domain": [
          0,
          1
         ],
         "title": {
          "text": "Duration Change (%)"
         }
        }
       }
      }
     },
     "metadata": {},
     "output_type": "display_data"
    }
   ],
   "source": [
    "recent_df['era'] = recent_df['Release year'].apply(lambda x: 'Pre-TikTok (2010-2018)' if x < 2019 else 'Post-TikTok (2019+)')\n",
    "# Group by category and era to see which genres show the most change\n",
    "category_era_stats = recent_df.groupby(['Category', 'era']).agg(\n",
    "    mean_duration=('duration_min', 'mean'),\n",
    "    song_count=('Track ID', 'count')\n",
    ").reset_index()\n",
    "\n",
    "# Calculate the change for each category (filtered to those with enough data)\n",
    "category_pivot = category_era_stats.pivot(index='Category', columns='era', values='mean_duration')\n",
    "category_pivot['song_count'] = category_era_stats.groupby('Category')['song_count'].sum()\n",
    "category_pivot['duration_change'] = category_pivot['Post-TikTok (2019+)'] - category_pivot['Pre-TikTok (2010-2018)']\n",
    "category_pivot['percent_change'] = (category_pivot['duration_change'] / category_pivot['Pre-TikTok (2010-2018)']) * 100\n",
    "\n",
    "# --- Filter categories with enough songs\n",
    "min_songs = 30\n",
    "category_filtered = category_pivot[category_pivot['song_count'] >= min_songs].sort_values('percent_change')\n",
    "\n",
    "# --- Highlight specific categories\n",
    "highlight_categories = ['new releases', 'pop', 'Discover']\n",
    "category_filtered_reset = category_filtered.reset_index()\n",
    "category_filtered_reset['highlight'] = category_filtered_reset['Category'].apply(\n",
    "    lambda x: 'Highlighted' if x.lower() in [cat.lower() for cat in highlight_categories] else 'Other'\n",
    ")\n",
    "\n",
    "# Prepare an explicit category order\n",
    "category_order = category_filtered_reset['Category'].tolist()\n",
    "\n",
    "category_change_path_json = output_dir / 'category_change_stats.json'\n",
    "category_filtered_reset_renamed = category_filtered_reset.rename(columns={\n",
    "    'Pre-TikTok (2010-2018)': 'Pre_TikTok_2010_2018',\n",
    "    'Post-TikTok (2019+)': 'Post_TikTok_2019_plus'\n",
    "})\n",
    "category_filtered_reset_renamed.to_json(category_change_path_json, orient='records', indent=2)\n",
    "print(f\"Saved category change data to: {category_change_path_json}\")\n",
    "\n",
    "\n",
    "fig_cat = px.bar(\n",
    "    category_filtered_reset,\n",
    "    x='Category',\n",
    "    y='percent_change',\n",
    "    color='highlight',\n",
    "    color_discrete_map={\n",
    "        'Highlighted': '#FF4B4B',\n",
    "        'Other': '#A0A0A0'\n",
    "    },\n",
    "    title='Song Duration Change by Category (Pre vs Post TikTok Era)',\n",
    "    labels={'percent_change': 'Duration Change (%)', 'Category': 'Music Category'},\n",
    "    hover_data={\n",
    "        'Pre-TikTok (2010-2018)': True,\n",
    "        'Post-TikTok (2019+)': True,\n",
    "        'song_count': True,\n",
    "        'highlight': False,\n",
    "    },\n",
    "    category_orders={'Category': category_order}  # 👈 THIS forces the ranked order\n",
    ")\n",
    "\n",
    "# --- Final Layout Tweaks\n",
    "fig_cat.update_layout(\n",
    "    xaxis_tickangle=-45,\n",
    "    plot_bgcolor='white',\n",
    "    xaxis_title='Music Category',\n",
    "    yaxis_title='Duration Change (%)',\n",
    "    showlegend=False\n",
    ")\n",
    "\n",
    "fig_cat.show()"
   ]
  },
  {
   "cell_type": "markdown",
   "metadata": {},
   "source": [
    "# IDEA 2"
   ]
  },
  {
   "cell_type": "code",
   "execution_count": 33,
   "metadata": {},
   "outputs": [
    {
     "name": "stdout",
     "output_type": "stream",
     "text": [
      "Distribution of songs by era:\n",
      "                      Era  Count\n",
      "0     Post-TikTok (2019+)   6202\n",
      "1  Pre-TikTok (2010-2018)   2064\n"
     ]
    }
   ],
   "source": [
    "# Make sure we have our era column defined\n",
    "if 'era' not in recent_df.columns:\n",
    "    recent_df['era'] = recent_df['Release year'].apply(\n",
    "        lambda x: 'Pre-TikTok (2010-2018)' if x < 2019 else 'Post-TikTok (2019+)'\n",
    "    )\n",
    "\n",
    "# Check the distribution of songs between eras\n",
    "era_counts = recent_df['era'].value_counts().reset_index()\n",
    "era_counts.columns = ['Era', 'Count']\n",
    "print(f\"Distribution of songs by era:\")\n",
    "print(era_counts)"
   ]
  },
  {
   "cell_type": "code",
   "execution_count": 34,
   "metadata": {},
   "outputs": [
    {
     "name": "stdout",
     "output_type": "stream",
     "text": [
      "Saved feature change data to: vega_data/feature_change_stats.json\n"
     ]
    },
    {
     "data": {
      "application/vnd.plotly.v1+json": {
       "config": {
        "plotlyServerURL": "https://plot.ly"
       },
       "data": [
        {
         "customdata": {
          "bdata": "5iaGVm7iDEAfCNR2MyMHQBx7yH7r/Oa/1YT2SSLhuj8tMVcmrxi9P8BiBeNmvIE/5vqlrmST4j9kMgEHPQ7jP4DfzRYWto4/",
          "dtype": "f8",
          "shape": "3, 3"
         },
         "hovertemplate": "Highlight=True<br>Feature=%{x}<br>Percentage Change=%{text}<br>Pre-TikTok Mean=%{customdata[0]}<br>Post-TikTok Mean=%{customdata[1]}<br>Absolute Change=%{customdata[2]}<extra></extra>",
         "legendgroup": "True",
         "marker": {
          "color": "#FF4B4B",
          "pattern": {
           "shape": ""
          }
         },
         "name": "True",
         "orientation": "v",
         "showlegend": true,
         "text": {
          "bdata": "37nTX37lM8AjrKME734gQBg3OGyOqgRA",
          "dtype": "f8"
         },
         "textposition": "outside",
         "texttemplate": "%{text:.1f}%",
         "type": "bar",
         "x": [
          "Duration (minutes)",
          "Speechiness",
          "Danceability"
         ],
         "xaxis": "x",
         "y": {
          "bdata": "37nTX37lM8AjrKME734gQBg3OGyOqgRA",
          "dtype": "f8"
         },
         "yaxis": "y"
        },
        {
         "customdata": {
          "bdata": "EkRkMWFc4j9n/LrAIoLgP7B6lArno62/GxtR8l473T+vbthu4JrbP8DGijfoB5q/pBwEAUCgXUDS/mnCirRdQAAu4mXBStQ/",
          "dtype": "f8",
          "shape": "3, 3"
         },
         "hovertemplate": "Highlight=False<br>Feature=%{x}<br>Percentage Change=%{text}<br>Pre-TikTok Mean=%{customdata[0]}<br>Post-TikTok Mean=%{customdata[1]}<br>Absolute Change=%{customdata[2]}<extra></extra>",
         "legendgroup": "False",
         "marker": {
          "color": "#A0A0A0",
          "pattern": {
           "shape": ""
          }
         },
         "name": "False",
         "orientation": "v",
         "showlegend": true,
         "text": {
          "bdata": "wCe/b9AtJMD9f7GbK0MWwE89/YidH9E/",
          "dtype": "f8"
         },
         "textposition": "outside",
         "texttemplate": "%{text:.1f}%",
         "type": "bar",
         "x": [
          "Energy",
          "Positivity",
          "Tempo (BPM)"
         ],
         "xaxis": "x",
         "y": {
          "bdata": "wCe/b9AtJMD9f7GbK0MWwE89/YidH9E/",
          "dtype": "f8"
         },
         "yaxis": "y"
        }
       ],
       "layout": {
        "annotations": [
         {
          "font": {
           "size": 14
          },
          "showarrow": false,
          "text": "Red bars highlight changes consistent with 'TikTokification'",
          "x": 0.5,
          "xref": "paper",
          "y": 1.1,
          "yref": "paper"
         }
        ],
        "barmode": "relative",
        "height": 500,
        "legend": {
         "title": {
          "text": "Highlight"
         },
         "tracegroupgap": 0
        },
        "plot_bgcolor": "white",
        "shapes": [
         {
          "line": {
           "color": "gray",
           "dash": "dash",
           "width": 1
          },
          "type": "line",
          "x0": 0,
          "x1": 1,
          "xref": "x domain",
          "y0": 0,
          "y1": 0,
          "yref": "y"
         }
        ],
        "showlegend": false,
        "template": {
         "data": {
          "bar": [
           {
            "error_x": {
             "color": "#2a3f5f"
            },
            "error_y": {
             "color": "#2a3f5f"
            },
            "marker": {
             "line": {
              "color": "#E5ECF6",
              "width": 0.5
             },
             "pattern": {
              "fillmode": "overlay",
              "size": 10,
              "solidity": 0.2
             }
            },
            "type": "bar"
           }
          ],
          "barpolar": [
           {
            "marker": {
             "line": {
              "color": "#E5ECF6",
              "width": 0.5
             },
             "pattern": {
              "fillmode": "overlay",
              "size": 10,
              "solidity": 0.2
             }
            },
            "type": "barpolar"
           }
          ],
          "carpet": [
           {
            "aaxis": {
             "endlinecolor": "#2a3f5f",
             "gridcolor": "white",
             "linecolor": "white",
             "minorgridcolor": "white",
             "startlinecolor": "#2a3f5f"
            },
            "baxis": {
             "endlinecolor": "#2a3f5f",
             "gridcolor": "white",
             "linecolor": "white",
             "minorgridcolor": "white",
             "startlinecolor": "#2a3f5f"
            },
            "type": "carpet"
           }
          ],
          "choropleth": [
           {
            "colorbar": {
             "outlinewidth": 0,
             "ticks": ""
            },
            "type": "choropleth"
           }
          ],
          "contour": [
           {
            "colorbar": {
             "outlinewidth": 0,
             "ticks": ""
            },
            "colorscale": [
             [
              0,
              "#0d0887"
             ],
             [
              0.1111111111111111,
              "#46039f"
             ],
             [
              0.2222222222222222,
              "#7201a8"
             ],
             [
              0.3333333333333333,
              "#9c179e"
             ],
             [
              0.4444444444444444,
              "#bd3786"
             ],
             [
              0.5555555555555556,
              "#d8576b"
             ],
             [
              0.6666666666666666,
              "#ed7953"
             ],
             [
              0.7777777777777778,
              "#fb9f3a"
             ],
             [
              0.8888888888888888,
              "#fdca26"
             ],
             [
              1,
              "#f0f921"
             ]
            ],
            "type": "contour"
           }
          ],
          "contourcarpet": [
           {
            "colorbar": {
             "outlinewidth": 0,
             "ticks": ""
            },
            "type": "contourcarpet"
           }
          ],
          "heatmap": [
           {
            "colorbar": {
             "outlinewidth": 0,
             "ticks": ""
            },
            "colorscale": [
             [
              0,
              "#0d0887"
             ],
             [
              0.1111111111111111,
              "#46039f"
             ],
             [
              0.2222222222222222,
              "#7201a8"
             ],
             [
              0.3333333333333333,
              "#9c179e"
             ],
             [
              0.4444444444444444,
              "#bd3786"
             ],
             [
              0.5555555555555556,
              "#d8576b"
             ],
             [
              0.6666666666666666,
              "#ed7953"
             ],
             [
              0.7777777777777778,
              "#fb9f3a"
             ],
             [
              0.8888888888888888,
              "#fdca26"
             ],
             [
              1,
              "#f0f921"
             ]
            ],
            "type": "heatmap"
           }
          ],
          "histogram": [
           {
            "marker": {
             "pattern": {
              "fillmode": "overlay",
              "size": 10,
              "solidity": 0.2
             }
            },
            "type": "histogram"
           }
          ],
          "histogram2d": [
           {
            "colorbar": {
             "outlinewidth": 0,
             "ticks": ""
            },
            "colorscale": [
             [
              0,
              "#0d0887"
             ],
             [
              0.1111111111111111,
              "#46039f"
             ],
             [
              0.2222222222222222,
              "#7201a8"
             ],
             [
              0.3333333333333333,
              "#9c179e"
             ],
             [
              0.4444444444444444,
              "#bd3786"
             ],
             [
              0.5555555555555556,
              "#d8576b"
             ],
             [
              0.6666666666666666,
              "#ed7953"
             ],
             [
              0.7777777777777778,
              "#fb9f3a"
             ],
             [
              0.8888888888888888,
              "#fdca26"
             ],
             [
              1,
              "#f0f921"
             ]
            ],
            "type": "histogram2d"
           }
          ],
          "histogram2dcontour": [
           {
            "colorbar": {
             "outlinewidth": 0,
             "ticks": ""
            },
            "colorscale": [
             [
              0,
              "#0d0887"
             ],
             [
              0.1111111111111111,
              "#46039f"
             ],
             [
              0.2222222222222222,
              "#7201a8"
             ],
             [
              0.3333333333333333,
              "#9c179e"
             ],
             [
              0.4444444444444444,
              "#bd3786"
             ],
             [
              0.5555555555555556,
              "#d8576b"
             ],
             [
              0.6666666666666666,
              "#ed7953"
             ],
             [
              0.7777777777777778,
              "#fb9f3a"
             ],
             [
              0.8888888888888888,
              "#fdca26"
             ],
             [
              1,
              "#f0f921"
             ]
            ],
            "type": "histogram2dcontour"
           }
          ],
          "mesh3d": [
           {
            "colorbar": {
             "outlinewidth": 0,
             "ticks": ""
            },
            "type": "mesh3d"
           }
          ],
          "parcoords": [
           {
            "line": {
             "colorbar": {
              "outlinewidth": 0,
              "ticks": ""
             }
            },
            "type": "parcoords"
           }
          ],
          "pie": [
           {
            "automargin": true,
            "type": "pie"
           }
          ],
          "scatter": [
           {
            "fillpattern": {
             "fillmode": "overlay",
             "size": 10,
             "solidity": 0.2
            },
            "type": "scatter"
           }
          ],
          "scatter3d": [
           {
            "line": {
             "colorbar": {
              "outlinewidth": 0,
              "ticks": ""
             }
            },
            "marker": {
             "colorbar": {
              "outlinewidth": 0,
              "ticks": ""
             }
            },
            "type": "scatter3d"
           }
          ],
          "scattercarpet": [
           {
            "marker": {
             "colorbar": {
              "outlinewidth": 0,
              "ticks": ""
             }
            },
            "type": "scattercarpet"
           }
          ],
          "scattergeo": [
           {
            "marker": {
             "colorbar": {
              "outlinewidth": 0,
              "ticks": ""
             }
            },
            "type": "scattergeo"
           }
          ],
          "scattergl": [
           {
            "marker": {
             "colorbar": {
              "outlinewidth": 0,
              "ticks": ""
             }
            },
            "type": "scattergl"
           }
          ],
          "scattermap": [
           {
            "marker": {
             "colorbar": {
              "outlinewidth": 0,
              "ticks": ""
             }
            },
            "type": "scattermap"
           }
          ],
          "scattermapbox": [
           {
            "marker": {
             "colorbar": {
              "outlinewidth": 0,
              "ticks": ""
             }
            },
            "type": "scattermapbox"
           }
          ],
          "scatterpolar": [
           {
            "marker": {
             "colorbar": {
              "outlinewidth": 0,
              "ticks": ""
             }
            },
            "type": "scatterpolar"
           }
          ],
          "scatterpolargl": [
           {
            "marker": {
             "colorbar": {
              "outlinewidth": 0,
              "ticks": ""
             }
            },
            "type": "scatterpolargl"
           }
          ],
          "scatterternary": [
           {
            "marker": {
             "colorbar": {
              "outlinewidth": 0,
              "ticks": ""
             }
            },
            "type": "scatterternary"
           }
          ],
          "surface": [
           {
            "colorbar": {
             "outlinewidth": 0,
             "ticks": ""
            },
            "colorscale": [
             [
              0,
              "#0d0887"
             ],
             [
              0.1111111111111111,
              "#46039f"
             ],
             [
              0.2222222222222222,
              "#7201a8"
             ],
             [
              0.3333333333333333,
              "#9c179e"
             ],
             [
              0.4444444444444444,
              "#bd3786"
             ],
             [
              0.5555555555555556,
              "#d8576b"
             ],
             [
              0.6666666666666666,
              "#ed7953"
             ],
             [
              0.7777777777777778,
              "#fb9f3a"
             ],
             [
              0.8888888888888888,
              "#fdca26"
             ],
             [
              1,
              "#f0f921"
             ]
            ],
            "type": "surface"
           }
          ],
          "table": [
           {
            "cells": {
             "fill": {
              "color": "#EBF0F8"
             },
             "line": {
              "color": "white"
             }
            },
            "header": {
             "fill": {
              "color": "#C8D4E3"
             },
             "line": {
              "color": "white"
             }
            },
            "type": "table"
           }
          ]
         },
         "layout": {
          "annotationdefaults": {
           "arrowcolor": "#2a3f5f",
           "arrowhead": 0,
           "arrowwidth": 1
          },
          "autotypenumbers": "strict",
          "coloraxis": {
           "colorbar": {
            "outlinewidth": 0,
            "ticks": ""
           }
          },
          "colorscale": {
           "diverging": [
            [
             0,
             "#8e0152"
            ],
            [
             0.1,
             "#c51b7d"
            ],
            [
             0.2,
             "#de77ae"
            ],
            [
             0.3,
             "#f1b6da"
            ],
            [
             0.4,
             "#fde0ef"
            ],
            [
             0.5,
             "#f7f7f7"
            ],
            [
             0.6,
             "#e6f5d0"
            ],
            [
             0.7,
             "#b8e186"
            ],
            [
             0.8,
             "#7fbc41"
            ],
            [
             0.9,
             "#4d9221"
            ],
            [
             1,
             "#276419"
            ]
           ],
           "sequential": [
            [
             0,
             "#0d0887"
            ],
            [
             0.1111111111111111,
             "#46039f"
            ],
            [
             0.2222222222222222,
             "#7201a8"
            ],
            [
             0.3333333333333333,
             "#9c179e"
            ],
            [
             0.4444444444444444,
             "#bd3786"
            ],
            [
             0.5555555555555556,
             "#d8576b"
            ],
            [
             0.6666666666666666,
             "#ed7953"
            ],
            [
             0.7777777777777778,
             "#fb9f3a"
            ],
            [
             0.8888888888888888,
             "#fdca26"
            ],
            [
             1,
             "#f0f921"
            ]
           ],
           "sequentialminus": [
            [
             0,
             "#0d0887"
            ],
            [
             0.1111111111111111,
             "#46039f"
            ],
            [
             0.2222222222222222,
             "#7201a8"
            ],
            [
             0.3333333333333333,
             "#9c179e"
            ],
            [
             0.4444444444444444,
             "#bd3786"
            ],
            [
             0.5555555555555556,
             "#d8576b"
            ],
            [
             0.6666666666666666,
             "#ed7953"
            ],
            [
             0.7777777777777778,
             "#fb9f3a"
            ],
            [
             0.8888888888888888,
             "#fdca26"
            ],
            [
             1,
             "#f0f921"
            ]
           ]
          },
          "colorway": [
           "#636efa",
           "#EF553B",
           "#00cc96",
           "#ab63fa",
           "#FFA15A",
           "#19d3f3",
           "#FF6692",
           "#B6E880",
           "#FF97FF",
           "#FECB52"
          ],
          "font": {
           "color": "#2a3f5f"
          },
          "geo": {
           "bgcolor": "white",
           "lakecolor": "white",
           "landcolor": "#E5ECF6",
           "showlakes": true,
           "showland": true,
           "subunitcolor": "white"
          },
          "hoverlabel": {
           "align": "left"
          },
          "hovermode": "closest",
          "mapbox": {
           "style": "light"
          },
          "paper_bgcolor": "white",
          "plot_bgcolor": "#E5ECF6",
          "polar": {
           "angularaxis": {
            "gridcolor": "white",
            "linecolor": "white",
            "ticks": ""
           },
           "bgcolor": "#E5ECF6",
           "radialaxis": {
            "gridcolor": "white",
            "linecolor": "white",
            "ticks": ""
           }
          },
          "scene": {
           "xaxis": {
            "backgroundcolor": "#E5ECF6",
            "gridcolor": "white",
            "gridwidth": 2,
            "linecolor": "white",
            "showbackground": true,
            "ticks": "",
            "zerolinecolor": "white"
           },
           "yaxis": {
            "backgroundcolor": "#E5ECF6",
            "gridcolor": "white",
            "gridwidth": 2,
            "linecolor": "white",
            "showbackground": true,
            "ticks": "",
            "zerolinecolor": "white"
           },
           "zaxis": {
            "backgroundcolor": "#E5ECF6",
            "gridcolor": "white",
            "gridwidth": 2,
            "linecolor": "white",
            "showbackground": true,
            "ticks": "",
            "zerolinecolor": "white"
           }
          },
          "shapedefaults": {
           "line": {
            "color": "#2a3f5f"
           }
          },
          "ternary": {
           "aaxis": {
            "gridcolor": "white",
            "linecolor": "white",
            "ticks": ""
           },
           "baxis": {
            "gridcolor": "white",
            "linecolor": "white",
            "ticks": ""
           },
           "bgcolor": "#E5ECF6",
           "caxis": {
            "gridcolor": "white",
            "linecolor": "white",
            "ticks": ""
           }
          },
          "title": {
           "x": 0.05
          },
          "xaxis": {
           "automargin": true,
           "gridcolor": "white",
           "linecolor": "white",
           "ticks": "",
           "title": {
            "standoff": 15
           },
           "zerolinecolor": "white",
           "zerolinewidth": 2
          },
          "yaxis": {
           "automargin": true,
           "gridcolor": "white",
           "linecolor": "white",
           "ticks": "",
           "title": {
            "standoff": 15
           },
           "zerolinecolor": "white",
           "zerolinewidth": 2
          }
         }
        },
        "title": {
         "text": "Percentage Change in Music Features (Pre vs Post TikTok Era)"
        },
        "width": 900,
        "xaxis": {
         "anchor": "y",
         "domain": [
          0,
          1
         ],
         "title": {
          "text": "Feature"
         }
        },
        "yaxis": {
         "anchor": "x",
         "domain": [
          0,
          1
         ],
         "title": {
          "text": "Percentage Change (%)"
         }
        }
       }
      }
     },
     "metadata": {},
     "output_type": "display_data"
    }
   ],
   "source": [
    "# Select the features we want to compare\n",
    "features_to_compare = [\n",
    "    'duration_min',     # Song duration\n",
    "    'danceability',     # How suitable for dancing\n",
    "    'energy',           # Intensity and activity\n",
    "    'speechiness',      # Presence of spoken words\n",
    "    'valence',          # Musical positiveness\n",
    "    'tempo'             # Speed or pace of the track\n",
    "]\n",
    "\n",
    "# Create feature-friendly labels\n",
    "feature_labels = {\n",
    "    'duration_min': 'Duration (minutes)',\n",
    "    'danceability': 'Danceability',\n",
    "    'energy': 'Energy',\n",
    "    'speechiness': 'Speechiness',\n",
    "    'valence': 'Positivity',\n",
    "    'tempo': 'Tempo (BPM)'\n",
    "}\n",
    "\n",
    "# Calculate percentage changes for each feature\n",
    "feature_changes = []\n",
    "\n",
    "for feature in features_to_compare:\n",
    "    pre_mean = recent_df[recent_df['era'] == 'Pre-TikTok (2010-2018)'][feature].mean()\n",
    "    post_mean = recent_df[recent_df['era'] == 'Post-TikTok (2019+)'][feature].mean()\n",
    "    \n",
    "    if pre_mean == 0:  # Avoid division by zero\n",
    "        pct_change = 0\n",
    "    else:\n",
    "        pct_change = ((post_mean - pre_mean) / pre_mean) * 100\n",
    "    \n",
    "    # Special handling for duration - negative is \"tiktokification\"\n",
    "    highlight = False\n",
    "    if feature == 'duration_min' and pct_change < 0:\n",
    "        highlight = True\n",
    "    # For other features, positive change might be \"tiktokification\"\n",
    "    elif feature in ['danceability', 'energy', 'speechiness'] and pct_change > 0:\n",
    "        highlight = True\n",
    "    \n",
    "    feature_changes.append({\n",
    "        'Feature': feature_labels[feature],\n",
    "        'Percentage Change': pct_change,\n",
    "        'Pre-TikTok Mean': pre_mean,\n",
    "        'Post-TikTok Mean': post_mean,\n",
    "        'Absolute Change': post_mean - pre_mean,\n",
    "        'Highlight': highlight\n",
    "    })\n",
    "\n",
    "# Create a DataFrame from the results\n",
    "change_df = pd.DataFrame(feature_changes)\n",
    "\n",
    "# Sort by absolute percentage change\n",
    "change_df = change_df.sort_values(by='Percentage Change', key=abs, ascending=False)\n",
    "\n",
    "feature_change_path_json = output_dir / 'feature_change_stats.json'\n",
    "change_df_renamed = change_df.rename(columns={\n",
    "    'Pre-TikTok Mean': 'Pre_TikTok_Mean',\n",
    "    'Post-TikTok Mean': 'Post_TikTok_Mean',\n",
    "    'Absolute Change': 'Absolute_Change',\n",
    "    'Percentage Change': 'Percentage_Change'\n",
    "})\n",
    "change_df_renamed.to_json(feature_change_path_json, orient='records', indent=2)\n",
    "print(f\"Saved feature change data to: {feature_change_path_json}\")\n",
    "\n",
    "# Create bar chart of percentage changes\n",
    "fig_changes = px.bar(\n",
    "    change_df,\n",
    "    x='Feature',\n",
    "    y='Percentage Change',\n",
    "    color='Highlight',\n",
    "    color_discrete_map={\n",
    "        True: '#FF4B4B',   # Red for highlighted changes\n",
    "        False: '#A0A0A0'   # Gray for other changes\n",
    "    },\n",
    "    title='Percentage Change in Music Features (Pre vs Post TikTok Era)',\n",
    "    text='Percentage Change',\n",
    "    hover_data=['Pre-TikTok Mean', 'Post-TikTok Mean', 'Absolute Change']\n",
    ")\n",
    "\n",
    "fig_changes.update_traces(\n",
    "    texttemplate='%{text:.1f}%',\n",
    "    textposition='outside'\n",
    ")\n",
    "\n",
    "fig_changes.update_layout(\n",
    "    xaxis_title='Feature',\n",
    "    yaxis_title='Percentage Change (%)',\n",
    "    plot_bgcolor='white',\n",
    "    width=900,\n",
    "    height=500,\n",
    "    showlegend=False\n",
    ")\n",
    "\n",
    "# Add a horizontal line at zero\n",
    "fig_changes.add_hline(\n",
    "    y=0,\n",
    "    line_width=1,\n",
    "    line_dash='dash',\n",
    "    line_color='gray'\n",
    ")\n",
    "\n",
    "# Add explanatory annotation\n",
    "fig_changes.add_annotation(\n",
    "    x=0.5,\n",
    "    y=1.1,\n",
    "    xref=\"paper\",\n",
    "    yref=\"paper\",\n",
    "    text=\"Red bars highlight changes consistent with 'TikTokification'\",\n",
    "    showarrow=False,\n",
    "    font=dict(size=14)\n",
    ")\n",
    "\n",
    "fig_changes.show()"
   ]
  },
  {
   "cell_type": "code",
   "execution_count": 35,
   "metadata": {},
   "outputs": [
    {
     "name": "stdout",
     "output_type": "stream",
     "text": [
      "\n",
      "Summary of Changes:\n"
     ]
    },
    {
     "data": {
      "application/vnd.microsoft.datawrangler.viewer.v0+json": {
       "columns": [
        {
         "name": "index",
         "rawType": "int64",
         "type": "integer"
        },
        {
         "name": "Feature",
         "rawType": "object",
         "type": "string"
        },
        {
         "name": "Pre-TikTok Mean",
         "rawType": "float64",
         "type": "float"
        },
        {
         "name": "Post-TikTok Mean",
         "rawType": "float64",
         "type": "float"
        },
        {
         "name": "Absolute Change",
         "rawType": "float64",
         "type": "float"
        },
        {
         "name": "Percentage Change",
         "rawType": "float64",
         "type": "float"
        },
        {
         "name": "p-value",
         "rawType": "object",
         "type": "string"
        },
        {
         "name": "Significant",
         "rawType": "bool",
         "type": "boolean"
        }
       ],
       "conversionMethod": "pd.DataFrame",
       "ref": "d462711f-07a2-477b-9802-4e37108ba521",
       "rows": [
        [
         "0",
         "Duration (minutes)",
         "3.611",
         "2.892",
         "-0.718",
         "-19.9",
         "0.000000",
         "True"
        ],
        [
         "1",
         "Energy",
         "0.574",
         "0.516",
         "-0.058",
         "-10.1",
         "0.000000",
         "True"
        ],
        [
         "2",
         "Speechiness",
         "0.105",
         "0.114",
         "0.009",
         "8.2",
         "0.011537",
         "True"
        ],
        [
         "3",
         "Positivity",
         "0.457",
         "0.431",
         "-0.025",
         "-5.6",
         "0.000153",
         "True"
        ],
        [
         "4",
         "Danceability",
         "0.58",
         "0.595",
         "0.015",
         "2.6",
         "0.002726",
         "True"
        ],
        [
         "5",
         "Tempo (BPM)",
         "118.504",
         "118.821",
         "0.317",
         "0.3",
         "0.681360",
         "False"
        ]
       ],
       "shape": {
        "columns": 7,
        "rows": 6
       }
      },
      "text/html": [
       "<div>\n",
       "<style scoped>\n",
       "    .dataframe tbody tr th:only-of-type {\n",
       "        vertical-align: middle;\n",
       "    }\n",
       "\n",
       "    .dataframe tbody tr th {\n",
       "        vertical-align: top;\n",
       "    }\n",
       "\n",
       "    .dataframe thead th {\n",
       "        text-align: right;\n",
       "    }\n",
       "</style>\n",
       "<table border=\"1\" class=\"dataframe\">\n",
       "  <thead>\n",
       "    <tr style=\"text-align: right;\">\n",
       "      <th></th>\n",
       "      <th>Feature</th>\n",
       "      <th>Pre-TikTok Mean</th>\n",
       "      <th>Post-TikTok Mean</th>\n",
       "      <th>Absolute Change</th>\n",
       "      <th>Percentage Change</th>\n",
       "      <th>p-value</th>\n",
       "      <th>Significant</th>\n",
       "    </tr>\n",
       "  </thead>\n",
       "  <tbody>\n",
       "    <tr>\n",
       "      <th>0</th>\n",
       "      <td>Duration (minutes)</td>\n",
       "      <td>3.611</td>\n",
       "      <td>2.892</td>\n",
       "      <td>-0.718</td>\n",
       "      <td>-19.9</td>\n",
       "      <td>0.000000</td>\n",
       "      <td>True</td>\n",
       "    </tr>\n",
       "    <tr>\n",
       "      <th>1</th>\n",
       "      <td>Energy</td>\n",
       "      <td>0.574</td>\n",
       "      <td>0.516</td>\n",
       "      <td>-0.058</td>\n",
       "      <td>-10.1</td>\n",
       "      <td>0.000000</td>\n",
       "      <td>True</td>\n",
       "    </tr>\n",
       "    <tr>\n",
       "      <th>2</th>\n",
       "      <td>Speechiness</td>\n",
       "      <td>0.105</td>\n",
       "      <td>0.114</td>\n",
       "      <td>0.009</td>\n",
       "      <td>8.2</td>\n",
       "      <td>0.011537</td>\n",
       "      <td>True</td>\n",
       "    </tr>\n",
       "    <tr>\n",
       "      <th>3</th>\n",
       "      <td>Positivity</td>\n",
       "      <td>0.457</td>\n",
       "      <td>0.431</td>\n",
       "      <td>-0.025</td>\n",
       "      <td>-5.6</td>\n",
       "      <td>0.000153</td>\n",
       "      <td>True</td>\n",
       "    </tr>\n",
       "    <tr>\n",
       "      <th>4</th>\n",
       "      <td>Danceability</td>\n",
       "      <td>0.580</td>\n",
       "      <td>0.595</td>\n",
       "      <td>0.015</td>\n",
       "      <td>2.6</td>\n",
       "      <td>0.002726</td>\n",
       "      <td>True</td>\n",
       "    </tr>\n",
       "    <tr>\n",
       "      <th>5</th>\n",
       "      <td>Tempo (BPM)</td>\n",
       "      <td>118.504</td>\n",
       "      <td>118.821</td>\n",
       "      <td>0.317</td>\n",
       "      <td>0.3</td>\n",
       "      <td>0.681360</td>\n",
       "      <td>False</td>\n",
       "    </tr>\n",
       "  </tbody>\n",
       "</table>\n",
       "</div>"
      ],
      "text/plain": [
       "              Feature  Pre-TikTok Mean  Post-TikTok Mean  Absolute Change  \\\n",
       "0  Duration (minutes)            3.611             2.892           -0.718   \n",
       "1              Energy            0.574             0.516           -0.058   \n",
       "2         Speechiness            0.105             0.114            0.009   \n",
       "3          Positivity            0.457             0.431           -0.025   \n",
       "4        Danceability            0.580             0.595            0.015   \n",
       "5         Tempo (BPM)          118.504           118.821            0.317   \n",
       "\n",
       "   Percentage Change   p-value  Significant  \n",
       "0              -19.9  0.000000         True  \n",
       "1              -10.1  0.000000         True  \n",
       "2                8.2  0.011537         True  \n",
       "3               -5.6  0.000153         True  \n",
       "4                2.6  0.002726         True  \n",
       "5                0.3  0.681360        False  "
      ]
     },
     "metadata": {},
     "output_type": "display_data"
    }
   ],
   "source": [
    "# Perform t-tests to check for statistical significance\n",
    "from scipy import stats\n",
    "\n",
    "significance_results = []\n",
    "\n",
    "for feature in features_to_compare:\n",
    "    pre_data = recent_df[recent_df['era'] == 'Pre-TikTok (2010-2018)'][feature]\n",
    "    post_data = recent_df[recent_df['era'] == 'Post-TikTok (2019+)'][feature]\n",
    "    \n",
    "    # Perform t-test\n",
    "    t_stat, p_value = stats.ttest_ind(pre_data, post_data, equal_var=False)\n",
    "    \n",
    "    significance_results.append({\n",
    "        'Feature': feature_labels[feature],\n",
    "        't-statistic': t_stat,\n",
    "        'p-value': p_value,\n",
    "        'Significant': p_value < 0.05\n",
    "    })\n",
    "\n",
    "# Create a DataFrame from the results\n",
    "sig_df = pd.DataFrame(significance_results)\n",
    "# Create a summary table for easy reference\n",
    "summary_df = change_df.merge(sig_df, on='Feature')\n",
    "summary_table = summary_df[['Feature', 'Pre-TikTok Mean', 'Post-TikTok Mean', \n",
    "                           'Absolute Change', 'Percentage Change', 'p-value', 'Significant']]\n",
    "\n",
    "# Round for display\n",
    "summary_table['Pre-TikTok Mean'] = summary_table['Pre-TikTok Mean'].round(3)\n",
    "summary_table['Post-TikTok Mean'] = summary_table['Post-TikTok Mean'].round(3)\n",
    "summary_table['Absolute Change'] = summary_table['Absolute Change'].round(3)\n",
    "summary_table['Percentage Change'] = summary_table['Percentage Change'].round(1)\n",
    "summary_table['p-value'] = summary_table['p-value'].apply(lambda x: f\"{x:.6f}\")\n",
    "\n",
    "print(\"\\nSummary of Changes:\")\n",
    "display(summary_table)"
   ]
  },
  {
   "cell_type": "markdown",
   "metadata": {},
   "source": [
    "# IDEA 3"
   ]
  },
  {
   "cell_type": "code",
   "execution_count": 36,
   "metadata": {},
   "outputs": [
    {
     "name": "stdout",
     "output_type": "stream",
     "text": [
      "TikTok Score Summary Statistics:\n",
      "count    8266.000000\n",
      "mean       63.403237\n",
      "std        11.650163\n",
      "min        27.970309\n",
      "25%        56.938615\n",
      "50%        65.718982\n",
      "75%        71.823318\n",
      "max        92.330943\n",
      "Name: tiktok_score, dtype: float64\n"
     ]
    }
   ],
   "source": [
    "# Define the TikTok Score components\n",
    "def calculate_tiktok_score(row):\n",
    "    # Components for an ideal \"TikTok friendly\" song:\n",
    "    \n",
    "    # 1. Duration - shorter is better (inverse relationship)\n",
    "    # Normalize to 0-1 scale where 1 is shortest\n",
    "    max_duration = recent_df['duration_min'].max()\n",
    "    min_duration = recent_df['duration_min'].min()\n",
    "    duration_range = max_duration - min_duration\n",
    "    duration_score = 1 - ((row['duration_min'] - min_duration) / duration_range if duration_range > 0 else 0)\n",
    "    \n",
    "    # 2. Danceability - higher is better for TikTok\n",
    "    danceability_score = row['danceability']\n",
    "    \n",
    "    # 3. Energy - higher is better for TikTok\n",
    "    energy_score = row['energy']\n",
    "    \n",
    "    # 4. Speechiness - medium-high is ideal (too high might be podcasts)\n",
    "    # Peak at around 0.4-0.5 speechiness\n",
    "    speechiness_score = 1 - abs(row['speechiness'] - 0.45) * 2\n",
    "    speechiness_score = max(0, min(1, speechiness_score))  # Clamp to 0-1\n",
    "    \n",
    "    # 5. Valence - catchy songs often have higher valence\n",
    "    valence_score = row['valence']\n",
    "    \n",
    "    # Weighted combination of all factors\n",
    "    # You can adjust these weights based on what you believe contributes most\n",
    "    # to a song's \"TikTok friendliness\"\n",
    "    tiktok_score = (\n",
    "        0.3 * duration_score +      # Duration - 30% weight\n",
    "        0.25 * danceability_score +  # Danceability - 25% weight\n",
    "        0.2 * energy_score +         # Energy - 20% weight\n",
    "        0.15 * speechiness_score +   # Speechiness - 15% weight\n",
    "        0.1 * valence_score          # Valence - 10% weight\n",
    "    )\n",
    "    \n",
    "    # Scale to 0-100 for easier interpretation\n",
    "    return tiktok_score * 100\n",
    "\n",
    "# Calculate the TikTok Score for each song\n",
    "recent_df['tiktok_score'] = recent_df.apply(calculate_tiktok_score, axis=1)\n",
    "\n",
    "# Display summary statistics of the TikTok Score\n",
    "print(\"TikTok Score Summary Statistics:\")\n",
    "print(recent_df['tiktok_score'].describe())"
   ]
  },
  {
   "cell_type": "code",
   "execution_count": 37,
   "metadata": {},
   "outputs": [
    {
     "name": "stdout",
     "output_type": "stream",
     "text": [
      "Saved component evolution data (long format) to: vega_data/component_evolution_stats.json\n"
     ]
    },
    {
     "data": {
      "application/vnd.plotly.v1+json": {
       "config": {
        "plotlyServerURL": "https://plot.ly"
       },
       "data": [
        {
         "fillcolor": "rgb(255, 128, 128)",
         "line": {
          "color": "rgb(255, 128, 128)",
          "width": 0
         },
         "mode": "lines",
         "name": "Short Duration",
         "stackgroup": "one",
         "type": "scatter",
         "x": {
          "bdata": "2gfbB9wH3QfeB98H4AfhB+IH4wfkB+UH5gfnB+gH",
          "dtype": "i2"
         },
         "y": {
          "bdata": "4NkYvQmj1D9gdEY2jbPLPwAAAAAAAAAAODNsqIVvvz8eM//TUXzgP7obmRyEHNg/hBlUZVnJ1z80ixHThpfeP9ihCj3hKeI/qhTHCVPx4z+5DDgR1/HkP8QsmxF4nec/B4z+PHEN7D/IZmYUzRfuPwAAAAAAAPA/",
          "dtype": "f8"
         }
        },
        {
         "fillcolor": "rgb(128, 255, 128)",
         "line": {
          "color": "rgb(128, 255, 128)",
          "width": 0
         },
         "mode": "lines",
         "name": "Danceability",
         "stackgroup": "one",
         "type": "scatter",
         "x": {
          "bdata": "2gfbB9wH3QfeB98H4AfhB+IH4wfkB+UH5gfnB+gH",
          "dtype": "i2"
         },
         "y": {
          "bdata": "j0+YWUVI4j+LbMbauzDiP5HHlwEFAuI/xj+JuGrJ4T8SUqvHhlziP04NqmzoIeI/nPB1UPce4z/LiaoLNizjPzovXaoL/uI/LJubwmXs4z8BKOP5U4zjPxgkAYNMAuM/9nSdwdjI4j8CnDPZrzPjP9/zGhAQH+I/",
          "dtype": "f8"
         }
        },
        {
         "fillcolor": "rgb(128, 128, 255)",
         "line": {
          "color": "rgb(128, 128, 255)",
          "width": 0
         },
         "mode": "lines",
         "name": "Energy",
         "stackgroup": "one",
         "type": "scatter",
         "x": {
          "bdata": "2gfbB9wH3QfeB98H4AfhB+IH4wfkB+UH5gfnB+gH",
          "dtype": "i2"
         },
         "y": {
          "bdata": "dxteJe9F5D/yU27Jx8njP+cg1Z0Us+M/ZB4Qtxgr4D/zj8o1/IDjPz+KrXIDW+M/5PDEQUHg4j/h/5uxFuPhP5YCjFyID+E/AYpFb0+G4T+CyPtD62vhP3BO86djsuA/742kGgxd4D/A80XnAmjgP7qwRk2Yv94/",
          "dtype": "f8"
         }
        },
        {
         "fillcolor": "rgb(255, 255, 128)",
         "line": {
          "color": "rgb(255, 255, 128)",
          "width": 0
         },
         "mode": "lines",
         "name": "Speechiness",
         "stackgroup": "one",
         "type": "scatter",
         "x": {
          "bdata": "2gfbB9wH3QfeB98H4AfhB+IH4wfkB+UH5gfnB+gH",
          "dtype": "i2"
         },
         "y": {
          "bdata": "RA1oWJpOtj+d/X0SOHizP5bY8a7cR7w/MA2pRqw4tz/uBWAPDu29P5URu7Pp2rk/nSCTvRymuz+MIE8m8127PxqNI/EwlL4/zs6+VL/tvD/cnL8h87HAPw/f+LcvY7s/ul/AO1kVvD/HTOhlSLC9P/CJ7TGgJbs/",
          "dtype": "f8"
         }
        },
        {
         "fillcolor": "rgb(255, 128, 255)",
         "line": {
          "color": "rgb(255, 128, 255)",
          "width": 0
         },
         "mode": "lines",
         "name": "Positivity",
         "stackgroup": "one",
         "type": "scatter",
         "x": {
          "bdata": "2gfbB9wH3QfeB98H4AfhB+IH4wfkB+UH5gfnB+gH",
          "dtype": "i2"
         },
         "y": {
          "bdata": "uSY9gfUm4D/zPtOwn4HePwuzMlbqe94/uBSwk1lN2j/GfFuzjyHeP0HgFJ6R7t0/X0TOSqB63T+hG80j5xzcP6wVHbmi+dw/ulOdbPn43D+GGeaeYnfcP/IR59aKc9o/kXXBBi4k2z+jiKoXMFzcP5irleYC29k/",
          "dtype": "f8"
         }
        }
       ],
       "layout": {
        "annotations": [
         {
          "showarrow": false,
          "text": "TikTok's Rise",
          "x": 2019,
          "xanchor": "left",
          "xref": "x",
          "y": 1,
          "yanchor": "top",
          "yref": "y domain"
         }
        ],
        "height": 600,
        "plot_bgcolor": "white",
        "shapes": [
         {
          "line": {
           "color": "gray",
           "dash": "dash",
           "width": 2
          },
          "type": "line",
          "x0": 2019,
          "x1": 2019,
          "xref": "x",
          "y0": 0,
          "y1": 1,
          "yref": "y domain"
         }
        ],
        "template": {
         "data": {
          "bar": [
           {
            "error_x": {
             "color": "#2a3f5f"
            },
            "error_y": {
             "color": "#2a3f5f"
            },
            "marker": {
             "line": {
              "color": "#E5ECF6",
              "width": 0.5
             },
             "pattern": {
              "fillmode": "overlay",
              "size": 10,
              "solidity": 0.2
             }
            },
            "type": "bar"
           }
          ],
          "barpolar": [
           {
            "marker": {
             "line": {
              "color": "#E5ECF6",
              "width": 0.5
             },
             "pattern": {
              "fillmode": "overlay",
              "size": 10,
              "solidity": 0.2
             }
            },
            "type": "barpolar"
           }
          ],
          "carpet": [
           {
            "aaxis": {
             "endlinecolor": "#2a3f5f",
             "gridcolor": "white",
             "linecolor": "white",
             "minorgridcolor": "white",
             "startlinecolor": "#2a3f5f"
            },
            "baxis": {
             "endlinecolor": "#2a3f5f",
             "gridcolor": "white",
             "linecolor": "white",
             "minorgridcolor": "white",
             "startlinecolor": "#2a3f5f"
            },
            "type": "carpet"
           }
          ],
          "choropleth": [
           {
            "colorbar": {
             "outlinewidth": 0,
             "ticks": ""
            },
            "type": "choropleth"
           }
          ],
          "contour": [
           {
            "colorbar": {
             "outlinewidth": 0,
             "ticks": ""
            },
            "colorscale": [
             [
              0,
              "#0d0887"
             ],
             [
              0.1111111111111111,
              "#46039f"
             ],
             [
              0.2222222222222222,
              "#7201a8"
             ],
             [
              0.3333333333333333,
              "#9c179e"
             ],
             [
              0.4444444444444444,
              "#bd3786"
             ],
             [
              0.5555555555555556,
              "#d8576b"
             ],
             [
              0.6666666666666666,
              "#ed7953"
             ],
             [
              0.7777777777777778,
              "#fb9f3a"
             ],
             [
              0.8888888888888888,
              "#fdca26"
             ],
             [
              1,
              "#f0f921"
             ]
            ],
            "type": "contour"
           }
          ],
          "contourcarpet": [
           {
            "colorbar": {
             "outlinewidth": 0,
             "ticks": ""
            },
            "type": "contourcarpet"
           }
          ],
          "heatmap": [
           {
            "colorbar": {
             "outlinewidth": 0,
             "ticks": ""
            },
            "colorscale": [
             [
              0,
              "#0d0887"
             ],
             [
              0.1111111111111111,
              "#46039f"
             ],
             [
              0.2222222222222222,
              "#7201a8"
             ],
             [
              0.3333333333333333,
              "#9c179e"
             ],
             [
              0.4444444444444444,
              "#bd3786"
             ],
             [
              0.5555555555555556,
              "#d8576b"
             ],
             [
              0.6666666666666666,
              "#ed7953"
             ],
             [
              0.7777777777777778,
              "#fb9f3a"
             ],
             [
              0.8888888888888888,
              "#fdca26"
             ],
             [
              1,
              "#f0f921"
             ]
            ],
            "type": "heatmap"
           }
          ],
          "histogram": [
           {
            "marker": {
             "pattern": {
              "fillmode": "overlay",
              "size": 10,
              "solidity": 0.2
             }
            },
            "type": "histogram"
           }
          ],
          "histogram2d": [
           {
            "colorbar": {
             "outlinewidth": 0,
             "ticks": ""
            },
            "colorscale": [
             [
              0,
              "#0d0887"
             ],
             [
              0.1111111111111111,
              "#46039f"
             ],
             [
              0.2222222222222222,
              "#7201a8"
             ],
             [
              0.3333333333333333,
              "#9c179e"
             ],
             [
              0.4444444444444444,
              "#bd3786"
             ],
             [
              0.5555555555555556,
              "#d8576b"
             ],
             [
              0.6666666666666666,
              "#ed7953"
             ],
             [
              0.7777777777777778,
              "#fb9f3a"
             ],
             [
              0.8888888888888888,
              "#fdca26"
             ],
             [
              1,
              "#f0f921"
             ]
            ],
            "type": "histogram2d"
           }
          ],
          "histogram2dcontour": [
           {
            "colorbar": {
             "outlinewidth": 0,
             "ticks": ""
            },
            "colorscale": [
             [
              0,
              "#0d0887"
             ],
             [
              0.1111111111111111,
              "#46039f"
             ],
             [
              0.2222222222222222,
              "#7201a8"
             ],
             [
              0.3333333333333333,
              "#9c179e"
             ],
             [
              0.4444444444444444,
              "#bd3786"
             ],
             [
              0.5555555555555556,
              "#d8576b"
             ],
             [
              0.6666666666666666,
              "#ed7953"
             ],
             [
              0.7777777777777778,
              "#fb9f3a"
             ],
             [
              0.8888888888888888,
              "#fdca26"
             ],
             [
              1,
              "#f0f921"
             ]
            ],
            "type": "histogram2dcontour"
           }
          ],
          "mesh3d": [
           {
            "colorbar": {
             "outlinewidth": 0,
             "ticks": ""
            },
            "type": "mesh3d"
           }
          ],
          "parcoords": [
           {
            "line": {
             "colorbar": {
              "outlinewidth": 0,
              "ticks": ""
             }
            },
            "type": "parcoords"
           }
          ],
          "pie": [
           {
            "automargin": true,
            "type": "pie"
           }
          ],
          "scatter": [
           {
            "fillpattern": {
             "fillmode": "overlay",
             "size": 10,
             "solidity": 0.2
            },
            "type": "scatter"
           }
          ],
          "scatter3d": [
           {
            "line": {
             "colorbar": {
              "outlinewidth": 0,
              "ticks": ""
             }
            },
            "marker": {
             "colorbar": {
              "outlinewidth": 0,
              "ticks": ""
             }
            },
            "type": "scatter3d"
           }
          ],
          "scattercarpet": [
           {
            "marker": {
             "colorbar": {
              "outlinewidth": 0,
              "ticks": ""
             }
            },
            "type": "scattercarpet"
           }
          ],
          "scattergeo": [
           {
            "marker": {
             "colorbar": {
              "outlinewidth": 0,
              "ticks": ""
             }
            },
            "type": "scattergeo"
           }
          ],
          "scattergl": [
           {
            "marker": {
             "colorbar": {
              "outlinewidth": 0,
              "ticks": ""
             }
            },
            "type": "scattergl"
           }
          ],
          "scattermap": [
           {
            "marker": {
             "colorbar": {
              "outlinewidth": 0,
              "ticks": ""
             }
            },
            "type": "scattermap"
           }
          ],
          "scattermapbox": [
           {
            "marker": {
             "colorbar": {
              "outlinewidth": 0,
              "ticks": ""
             }
            },
            "type": "scattermapbox"
           }
          ],
          "scatterpolar": [
           {
            "marker": {
             "colorbar": {
              "outlinewidth": 0,
              "ticks": ""
             }
            },
            "type": "scatterpolar"
           }
          ],
          "scatterpolargl": [
           {
            "marker": {
             "colorbar": {
              "outlinewidth": 0,
              "ticks": ""
             }
            },
            "type": "scatterpolargl"
           }
          ],
          "scatterternary": [
           {
            "marker": {
             "colorbar": {
              "outlinewidth": 0,
              "ticks": ""
             }
            },
            "type": "scatterternary"
           }
          ],
          "surface": [
           {
            "colorbar": {
             "outlinewidth": 0,
             "ticks": ""
            },
            "colorscale": [
             [
              0,
              "#0d0887"
             ],
             [
              0.1111111111111111,
              "#46039f"
             ],
             [
              0.2222222222222222,
              "#7201a8"
             ],
             [
              0.3333333333333333,
              "#9c179e"
             ],
             [
              0.4444444444444444,
              "#bd3786"
             ],
             [
              0.5555555555555556,
              "#d8576b"
             ],
             [
              0.6666666666666666,
              "#ed7953"
             ],
             [
              0.7777777777777778,
              "#fb9f3a"
             ],
             [
              0.8888888888888888,
              "#fdca26"
             ],
             [
              1,
              "#f0f921"
             ]
            ],
            "type": "surface"
           }
          ],
          "table": [
           {
            "cells": {
             "fill": {
              "color": "#EBF0F8"
             },
             "line": {
              "color": "white"
             }
            },
            "header": {
             "fill": {
              "color": "#C8D4E3"
             },
             "line": {
              "color": "white"
             }
            },
            "type": "table"
           }
          ]
         },
         "layout": {
          "annotationdefaults": {
           "arrowcolor": "#2a3f5f",
           "arrowhead": 0,
           "arrowwidth": 1
          },
          "autotypenumbers": "strict",
          "coloraxis": {
           "colorbar": {
            "outlinewidth": 0,
            "ticks": ""
           }
          },
          "colorscale": {
           "diverging": [
            [
             0,
             "#8e0152"
            ],
            [
             0.1,
             "#c51b7d"
            ],
            [
             0.2,
             "#de77ae"
            ],
            [
             0.3,
             "#f1b6da"
            ],
            [
             0.4,
             "#fde0ef"
            ],
            [
             0.5,
             "#f7f7f7"
            ],
            [
             0.6,
             "#e6f5d0"
            ],
            [
             0.7,
             "#b8e186"
            ],
            [
             0.8,
             "#7fbc41"
            ],
            [
             0.9,
             "#4d9221"
            ],
            [
             1,
             "#276419"
            ]
           ],
           "sequential": [
            [
             0,
             "#0d0887"
            ],
            [
             0.1111111111111111,
             "#46039f"
            ],
            [
             0.2222222222222222,
             "#7201a8"
            ],
            [
             0.3333333333333333,
             "#9c179e"
            ],
            [
             0.4444444444444444,
             "#bd3786"
            ],
            [
             0.5555555555555556,
             "#d8576b"
            ],
            [
             0.6666666666666666,
             "#ed7953"
            ],
            [
             0.7777777777777778,
             "#fb9f3a"
            ],
            [
             0.8888888888888888,
             "#fdca26"
            ],
            [
             1,
             "#f0f921"
            ]
           ],
           "sequentialminus": [
            [
             0,
             "#0d0887"
            ],
            [
             0.1111111111111111,
             "#46039f"
            ],
            [
             0.2222222222222222,
             "#7201a8"
            ],
            [
             0.3333333333333333,
             "#9c179e"
            ],
            [
             0.4444444444444444,
             "#bd3786"
            ],
            [
             0.5555555555555556,
             "#d8576b"
            ],
            [
             0.6666666666666666,
             "#ed7953"
            ],
            [
             0.7777777777777778,
             "#fb9f3a"
            ],
            [
             0.8888888888888888,
             "#fdca26"
            ],
            [
             1,
             "#f0f921"
            ]
           ]
          },
          "colorway": [
           "#636efa",
           "#EF553B",
           "#00cc96",
           "#ab63fa",
           "#FFA15A",
           "#19d3f3",
           "#FF6692",
           "#B6E880",
           "#FF97FF",
           "#FECB52"
          ],
          "font": {
           "color": "#2a3f5f"
          },
          "geo": {
           "bgcolor": "white",
           "lakecolor": "white",
           "landcolor": "#E5ECF6",
           "showlakes": true,
           "showland": true,
           "subunitcolor": "white"
          },
          "hoverlabel": {
           "align": "left"
          },
          "hovermode": "closest",
          "mapbox": {
           "style": "light"
          },
          "paper_bgcolor": "white",
          "plot_bgcolor": "#E5ECF6",
          "polar": {
           "angularaxis": {
            "gridcolor": "white",
            "linecolor": "white",
            "ticks": ""
           },
           "bgcolor": "#E5ECF6",
           "radialaxis": {
            "gridcolor": "white",
            "linecolor": "white",
            "ticks": ""
           }
          },
          "scene": {
           "xaxis": {
            "backgroundcolor": "#E5ECF6",
            "gridcolor": "white",
            "gridwidth": 2,
            "linecolor": "white",
            "showbackground": true,
            "ticks": "",
            "zerolinecolor": "white"
           },
           "yaxis": {
            "backgroundcolor": "#E5ECF6",
            "gridcolor": "white",
            "gridwidth": 2,
            "linecolor": "white",
            "showbackground": true,
            "ticks": "",
            "zerolinecolor": "white"
           },
           "zaxis": {
            "backgroundcolor": "#E5ECF6",
            "gridcolor": "white",
            "gridwidth": 2,
            "linecolor": "white",
            "showbackground": true,
            "ticks": "",
            "zerolinecolor": "white"
           }
          },
          "shapedefaults": {
           "line": {
            "color": "#2a3f5f"
           }
          },
          "ternary": {
           "aaxis": {
            "gridcolor": "white",
            "linecolor": "white",
            "ticks": ""
           },
           "baxis": {
            "gridcolor": "white",
            "linecolor": "white",
            "ticks": ""
           },
           "bgcolor": "#E5ECF6",
           "caxis": {
            "gridcolor": "white",
            "linecolor": "white",
            "ticks": ""
           }
          },
          "title": {
           "x": 0.05
          },
          "xaxis": {
           "automargin": true,
           "gridcolor": "white",
           "linecolor": "white",
           "ticks": "",
           "title": {
            "standoff": 15
           },
           "zerolinecolor": "white",
           "zerolinewidth": 2
          },
          "yaxis": {
           "automargin": true,
           "gridcolor": "white",
           "linecolor": "white",
           "ticks": "",
           "title": {
            "standoff": 15
           },
           "zerolinecolor": "white",
           "zerolinewidth": 2
          }
         }
        },
        "title": {
         "font": {
          "size": 20
         },
         "text": "Evolution of TikTok Score Components Over Time",
         "x": 0.5,
         "xanchor": "center",
         "y": 0.95,
         "yanchor": "top"
        },
        "width": 1000,
        "xaxis": {
         "dtick": 1,
         "gridcolor": "lightgray",
         "tickmode": "linear",
         "title": {
          "text": "Release Year"
         }
        },
        "yaxis": {
         "gridcolor": "lightgray",
         "title": {
          "text": "Component Values (Normalized)"
         },
         "zeroline": false
        }
       }
      }
     },
     "metadata": {},
     "output_type": "display_data"
    }
   ],
   "source": [
    "# Calculate average values for each component by year\n",
    "component_cols = ['duration_min', 'danceability', 'energy', 'speechiness', 'valence']\n",
    "component_avgs = recent_df.groupby('Release year')[component_cols].mean().reset_index()\n",
    "\n",
    "# Normalize duration for visualization (inverse it since shorter is better)\n",
    "max_duration = component_avgs['duration_min'].max()\n",
    "min_duration = component_avgs['duration_min'].min()\n",
    "component_avgs['duration_norm'] = 1 - ((component_avgs['duration_min'] - min_duration) / (max_duration - min_duration))\n",
    "\n",
    "value_vars = ['duration_norm', 'danceability', 'energy', 'speechiness', 'valence']\n",
    "id_vars = ['Release year']\n",
    "\n",
    "component_labels = {\n",
    "    'duration_norm': 'Short Duration',\n",
    "    'danceability': 'Danceability',\n",
    "    'energy': 'Energy',\n",
    "    'speechiness': 'Speechiness',\n",
    "    'valence': 'Positivity'\n",
    "}\n",
    "component_avgs_renamed = component_avgs.rename(columns=component_labels)\n",
    "value_vars_renamed = list(component_labels.values()) # Use the new names for melting\n",
    "\n",
    "# fold the DataFrame\n",
    "component_avgs_long = pd.melt(\n",
    "    component_avgs_renamed,\n",
    "    id_vars=id_vars,\n",
    "    value_vars=value_vars_renamed,\n",
    "    var_name='Component', # Name of the new column holding component names\n",
    "    value_name='Value'     # Name of the new column holding the values\n",
    ")\n",
    "\n",
    "components_path_json = output_dir / 'component_evolution_stats.json'\n",
    "component_avgs_long.to_json(components_path_json, orient='records', indent=2)\n",
    "print(f\"Saved component evolution data (long format) to: {components_path_json}\")\n",
    "\n",
    "\n",
    "# Create stacked area chart\n",
    "fig_components = go.Figure()\n",
    "\n",
    "# Add each component\n",
    "fig_components.add_trace(go.Scatter(\n",
    "    x=component_avgs['Release year'], y=component_avgs['duration_norm'],\n",
    "    mode='lines', name='Short Duration',\n",
    "    line=dict(width=0, color='rgb(255, 128, 128)'),\n",
    "    stackgroup='one', fillcolor='rgb(255, 128, 128)'\n",
    "))\n",
    "\n",
    "fig_components.add_trace(go.Scatter(\n",
    "    x=component_avgs['Release year'], y=component_avgs['danceability'],\n",
    "    mode='lines', name='Danceability',\n",
    "    line=dict(width=0, color='rgb(128, 255, 128)'),\n",
    "    stackgroup='one', fillcolor='rgb(128, 255, 128)'\n",
    "))\n",
    "\n",
    "fig_components.add_trace(go.Scatter(\n",
    "    x=component_avgs['Release year'], y=component_avgs['energy'],\n",
    "    mode='lines', name='Energy',\n",
    "    line=dict(width=0, color='rgb(128, 128, 255)'),\n",
    "    stackgroup='one', fillcolor='rgb(128, 128, 255)'\n",
    "))\n",
    "\n",
    "fig_components.add_trace(go.Scatter(\n",
    "    x=component_avgs['Release year'], y=component_avgs['speechiness'],\n",
    "    mode='lines', name='Speechiness',\n",
    "    line=dict(width=0, color='rgb(255, 255, 128)'),\n",
    "    stackgroup='one', fillcolor='rgb(255, 255, 128)'\n",
    "))\n",
    "\n",
    "fig_components.add_trace(go.Scatter(\n",
    "    x=component_avgs['Release year'], y=component_avgs['valence'],\n",
    "    mode='lines', name='Positivity',\n",
    "    line=dict(width=0, color='rgb(255, 128, 255)'),\n",
    "    stackgroup='one', fillcolor='rgb(255, 128, 255)'\n",
    "))\n",
    "\n",
    "# Add TikTok era reference line\n",
    "fig_components.add_vline(\n",
    "    x=2019, \n",
    "    line_width=2, \n",
    "    line_dash=\"dash\", \n",
    "    line_color=\"gray\",\n",
    "    annotation_text=\"TikTok's Rise\",\n",
    "    annotation_position=\"top right\"\n",
    ")\n",
    "\n",
    "# Update layout\n",
    "fig_components.update_layout(\n",
    "    title={\n",
    "        'text': 'Evolution of TikTok Score Components Over Time',\n",
    "        'y':0.95,\n",
    "        'x':0.5,\n",
    "        'xanchor': 'center',\n",
    "        'yanchor': 'top',\n",
    "        'font': {'size': 20}\n",
    "    },\n",
    "    xaxis=dict(\n",
    "        title='Release Year',\n",
    "        tickmode='linear',\n",
    "        dtick=1,\n",
    "        gridcolor='lightgray'\n",
    "    ),\n",
    "    yaxis=dict(\n",
    "        title='Component Values (Normalized)',\n",
    "        gridcolor='lightgray',\n",
    "        zeroline=False\n",
    "    ),\n",
    "    plot_bgcolor='white',\n",
    "    width=1000,\n",
    "    height=600\n",
    ")\n",
    "\n",
    "fig_components.show()"
   ]
  },
  {
   "cell_type": "markdown",
   "metadata": {},
   "source": [
    "# IDEA 4"
   ]
  }
 ],
 "metadata": {
  "kernelspec": {
   "display_name": "Python 3",
   "language": "python",
   "name": "python3"
  },
  "language_info": {
   "codemirror_mode": {
    "name": "ipython",
    "version": 3
   },
   "file_extension": ".py",
   "mimetype": "text/x-python",
   "name": "python",
   "nbconvert_exporter": "python",
   "pygments_lexer": "ipython3",
   "version": "3.9.6"
  }
 },
 "nbformat": 4,
 "nbformat_minor": 2
}
